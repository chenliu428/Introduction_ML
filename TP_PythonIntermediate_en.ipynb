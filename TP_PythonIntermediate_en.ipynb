{
  "cells": [
    {
      "cell_type": "markdown",
      "metadata": {
        "id": "LIWiBXDqxTVB"
      },
      "source": [
        "# Python Intermediate\n",
        "\n",
        "---"
      ]
    },
    {
      "cell_type": "markdown",
      "metadata": {
        "id": "BOF-hGd4xbqb"
      },
      "source": [
        "## 1. Function"
      ]
    },
    {
      "cell_type": "markdown",
      "metadata": {
        "id": "0jQLp-bqxml1"
      },
      "source": [
        "### 1.1 Declare a function with `def`"
      ]
    },
    {
      "cell_type": "markdown",
      "metadata": {
        "id": "9f4ff25a"
      },
      "source": [
        "In Python, **you declare functions using the** `def` **keyword**, followed by the function name, parentheses `()`, and a colon `:`. The function body is indented below the declaration."
      ]
    },
    {
      "cell_type": "code",
      "execution_count": null,
      "metadata": {
        "colab": {
          "base_uri": "https://localhost:8080/"
        },
        "id": "27b74bc6",
        "outputId": "c3561626-df18-453a-bd78-ce00853818da"
      },
      "outputs": [],
      "source": [
        "def simple_greet(name, greeting):\n",
        "  greeting = f\"{greeting}, {name}!\"\n",
        "  print(greeting)\n",
        "\n",
        "simple_greet(\"Alice\", \"Hello\") # Output: Hello, Alice!"
      ]
    },
    {
      "cell_type": "markdown",
      "metadata": {
        "id": "c96a02cc"
      },
      "source": [
        "**Returning Values with** `return`\n",
        "\n",
        "The `return` statement is used within a function to send a value back to the caller.\n",
        "\n",
        "*   **How it's used:** When a `return` statement is encountered, the function immediately stops executing, and the specified value is returned.\n",
        "*   **How the return is used:** The value returned by a function can be assigned to a variable, used in an expression, or passed as an argument to another function.\n",
        "\n",
        "If a function doesn't have a `return` statement, or if it has a `return` statement without a value, it implicitly returns `None`."
      ]
    },
    {
      "cell_type": "code",
      "execution_count": null,
      "metadata": {
        "colab": {
          "base_uri": "https://localhost:8080/"
        },
        "id": "TBO_9sh34D6N",
        "outputId": "a7b2c327-b063-41b1-ad5e-8a59d1cd3ad4"
      },
      "outputs": [],
      "source": [
        "def return_greet(name, greeting):\n",
        "  greeting = f\"{greeting}, {name}!\"\n",
        "  print(greeting)\n",
        "  return greeting\n",
        "\n",
        "greeting = return_greet(\"Bob\", \"Hi\")\n",
        "print(greeting) # Output: Hi, Bob!\n",
        "\n",
        "greeting = simple_greet(\"Alice\", \"Hello\") # Output: Hello, Alice!\n",
        "print(greeting) # Output: None\n",
        "\n",
        "print(f\"This morning, I met Bob and said to him: {return_greet('Bob', 'Hi')}\")\n",
        "print(f\"This afternoon, I met Alice and said to her: {simple_greet('Alice', 'Hello')}\")"
      ]
    },
    {
      "cell_type": "markdown",
      "metadata": {
        "id": "224e8d82"
      },
      "source": [
        "**Default Argument Values**\n",
        "\n",
        "You can provide default values for function arguments. This makes the argument optional when calling the function.\n",
        "\n",
        "*   **Syntax:** Assign a default value to an argument using the assignment operator (`=`) in the function definition: `def my_function(arg1, arg2=default_value):`\n",
        "*   **Behavior:**\n",
        "    *   If you call the function without providing a value for the argument with a default value, the default value will be used.\n",
        "    *   If you provide a value for the argument, that value will override the default value."
      ]
    },
    {
      "cell_type": "code",
      "execution_count": null,
      "metadata": {
        "id": "50fcd6c2"
      },
      "outputs": [],
      "source": [
        "def greet(name, greeting=\"Hello\"):\n",
        "  print(f\"{greeting}, {name}!\")\n",
        "\n",
        "greet(\"Bob\") # Output: Hello, Bob!\n",
        "greet(\"Charlie\", \"Hi\") # Output: Hi, Charlie!"
      ]
    },
    {
      "cell_type": "markdown",
      "metadata": {
        "id": "KnWlAysnx0WO"
      },
      "source": [
        "### 1.2 Variabel Scope"
      ]
    },
    {
      "cell_type": "markdown",
      "metadata": {},
      "source": [
        "**Variable Scope in Functions**\n",
        "\n",
        "Variable scope determines where a variable can be accessed within your code. In Python functions:\n",
        "\n",
        "*   **Local variables:** Variables defined inside a function are local to that function and cannot be accessed from outside.\n",
        "*   **Global variables:** Variables defined outside any function can be accessed from within functions, but modifying them requires the `global` keyword.\n",
        "*   **Function parameters:** Act as local variables within the function.\n",
        "\n",
        "**Key implications when calling functions:**\n",
        "*   **Isolation:** Local variables don't interfere with variables outside the function, even if they have the same name.\n",
        "*   **Data safety:** Functions can't accidentally modify variables in the calling code unless explicitly designed to do so.\n",
        "*   **Memory efficiency:** Local variables are automatically cleaned up when the function completes.\n",
        "*   **Predictable behavior:** Each function call creates its own independent set of local variables.\n"
      ]
    },
    {
      "cell_type": "markdown",
      "metadata": {},
      "source": [
        "Play with the following examples for mastering variable scope in functions"
      ]
    },
    {
      "cell_type": "code",
      "execution_count": null,
      "metadata": {},
      "outputs": [],
      "source": [
        "# 1. Local vs Global Variables\n",
        "\n",
        "# Global variable (defined outside any function)\n",
        "global_var = \"I'm global\"\n",
        "\n",
        "def show_scope():\n",
        "    # Local variable (only exists within this function)\n",
        "    local_var = \"I'm local\"\n",
        "    \n",
        "    print(\"Inside function:\")\n",
        "    print(f\"  local_var: {local_var}\")      # Can access local variable\n",
        "    print(f\"  global_var: {global_var}\")    # Can read global variable\n",
        "    \n",
        "    return local_var\n",
        "\n",
        "# Try to access local_var outside the function\n",
        "print(\"Outside function:\")\n",
        "print(f\"  global_var: {global_var}\")       # Can access global variable\n",
        "# print(f\"  local_var: {local_var}\")       # This would cause an error!\n",
        "\n",
        "# Call the function\n",
        "result = show_scope()\n",
        "print(f\"  result: {result}\")               # Can access returned value"
      ]
    },
    {
      "cell_type": "code",
      "execution_count": null,
      "metadata": {},
      "outputs": [],
      "source": [
        "# 2. Function Parameters as Local Variables\n",
        "\n",
        "def process_data(param1, param2):\n",
        "    print(\"Inside function:\")\n",
        "    print(f\"  param1: {param1}\")\n",
        "    print(f\"  param2: {param2}\")\n",
        "    \n",
        "    # Parameters act as local variables - we can modify them\n",
        "    param2 = param1  # Assign param1's value to param2\n",
        "    print(f\"  After param2 = param1:\")\n",
        "    print(f\"    param1: {param1}\")\n",
        "    print(f\"    param2: {param2}\")\n",
        "    \n",
        "    return param1, param2\n",
        "\n",
        "# Variables outside the function\n",
        "param1 = \"Original value\"\n",
        "param2 = \"Another value\"\n",
        "\n",
        "print(\"Before calling function:\")\n",
        "print(f\"  param1: {param1}\")\n",
        "print(f\"  param2: {param2}\")\n",
        "\n",
        "print(\"\\n\" + \"=\"*40)\n",
        "\n",
        "# Call the function\n",
        "result1, result2 = process_data(param1, param2)\n",
        "\n",
        "print(\"\\nAfter calling function:\")\n",
        "print(f\"  param1: {param1}\")        # Unchanged - parameters are local copies\n",
        "print(f\"  param2: {param2}\")        # Unchanged - original value preserved\n",
        "print(f\"  result1: {result1}\")      # Returned values\n",
        "print(f\"  result2: {result2}\")      # Shows the assignment worked inside function"
      ]
    },
    {
      "cell_type": "code",
      "execution_count": null,
      "metadata": {},
      "outputs": [],
      "source": [
        "# 3. Variable Isolation - Same Names, Different Scopes\n",
        "\n",
        "# Variable outside functions\n",
        "my_var = \"I'm outside\"\n",
        "\n",
        "def function1():\n",
        "    my_var = \"I'm in function1\"  # Same name, different scope\n",
        "    print(f\"Inside function1: {my_var}\")\n",
        "\n",
        "def function2():\n",
        "    my_var = \"I'm in function2\"  # Same name, different scope\n",
        "    print(f\"Inside function2: {my_var}\")\n",
        "\n",
        "print(f\"Outside functions: {my_var}\")\n",
        "\n",
        "function1()\n",
        "print(f\"After function1: {my_var}\")  # Original unchanged\n",
        "\n",
        "function2()\n",
        "print(f\"After function2: {my_var}\")  # Original unchanged\n",
        "\n",
        "# Each function has its own independent copy of my_var"
      ]
    },
    {
      "cell_type": "code",
      "execution_count": null,
      "metadata": {},
      "outputs": [],
      "source": [
        "# 4. Modifying Global Variables from Within a Function\n",
        "\n",
        "# Global variable\n",
        "global_counter = 0\n",
        "\n",
        "def increment_global():\n",
        "    global global_counter  # Must declare 'global' to modify it\n",
        "    global_counter += 1\n",
        "    print(f\"Inside function: global_counter = {global_counter}\")\n",
        "\n",
        "def increment_local():\n",
        "    # This creates a LOCAL variable, doesn't modify the global one\n",
        "    global_counter = 100  # This is a local variable!\n",
        "    print(f\"Inside function: local global_counter = {global_counter}\")\n",
        "\n",
        "print(\"Before any function calls:\")\n",
        "print(f\"global_counter = {global_counter}\")\n",
        "\n",
        "print(\"\\n\" + \"=\"*40)\n",
        "\n",
        "# Try to modify global variable without 'global' keyword\n",
        "increment_local()\n",
        "print(f\"After increment_local(): global_counter = {global_counter}\")  # Unchanged!\n",
        "\n",
        "print(\"\\n\" + \"=\"*40)\n",
        "\n",
        "# Properly modify global variable\n",
        "increment_global()\n",
        "print(f\"After increment_global(): global_counter = {global_counter}\")  # Changed!\n",
        "\n",
        "increment_global()\n",
        "print(f\"After second increment_global(): global_counter = {global_counter}\")  # Changed again!\n",
        "\n",
        "# Key point: You need 'global' keyword to modify global variables from within functions"
      ]
    },
    {
      "cell_type": "markdown",
      "metadata": {
        "id": "0SbqSF0LyKI2"
      },
      "source": [
        "### 1.3 Mutability of Function Arguments"
      ]
    },
    {
      "cell_type": "markdown",
      "metadata": {},
      "source": [
        "**Mutable vs Immutable Objects as Function Arguments**\n",
        "\n",
        "When objects are passed to functions, their behavior depends on whether they are **mutable** (can be changed) or **immutable** (cannot be changed):\n",
        "\n",
        "*   **Immutable objects** (strings, numbers, tuples): When passed to a function, you get a **copy** of the reference. Modifying the parameter creates a new local variable and doesn't affect the original object.\n",
        "*   **Mutable objects** (lists, dictionaries, sets): When passed to a function, you get a **reference** to the same object. Modifying the object's contents affects the original object outside the function.\n",
        "\n",
        "**Important:** This is about **object mutability**, not **variable scope**. The variable scope rules still apply - the parameter name is local to the function, but for mutable objects, that local name points to the same object in memory.\n"
      ]
    },
    {
      "cell_type": "markdown",
      "metadata": {},
      "source": [
        "Here are some examples to illustrate this concepts."
      ]
    },
    {
      "cell_type": "code",
      "execution_count": null,
      "metadata": {},
      "outputs": [],
      "source": [
        "# 1. Mutable vs Immutable Objects as Function Arguments\n",
        "\n",
        "def modify_immutable(x):\n",
        "    print(f\"Inside function - before: x = {x}\")\n",
        "    x = x + 10  # Creates a new local variable, doesn't modify original\n",
        "    print(f\"Inside function - after: x = {x}\")\n",
        "\n",
        "def modify_mutable(lst):\n",
        "    print(f\"Inside function - before: lst = {lst}\")\n",
        "    lst.append(99)  # Modifies the original object\n",
        "    print(f\"Inside function - after: lst = {lst}\")\n",
        "\n",
        "# Test with immutable object (integer)\n",
        "num = 5\n",
        "print(f\"Before calling modify_immutable: num = {num}\")\n",
        "modify_immutable(num)\n",
        "print(f\"After calling modify_immutable: num = {num}\")  # Unchanged!\n",
        "\n",
        "print(\"\\n\" + \"=\"*50)\n",
        "\n",
        "# Test with mutable object (list)\n",
        "my_list = [1, 2, 3]\n",
        "print(f\"Before calling modify_mutable: my_list = {my_list}\")\n",
        "modify_mutable(my_list)\n",
        "print(f\"After calling modify_mutable: my_list = {my_list}\")  # Changed!\n",
        "\n",
        "print(\"\\n\" + \"=\"*50)"
      ]
    },
    {
      "cell_type": "code",
      "execution_count": null,
      "metadata": {},
      "outputs": [],
      "source": [
        "# 2. Variable scope vs Object mutability\n",
        "\n",
        "def function_with_2lists(list1, list2):\n",
        "    print(f\"Inside function - before: list1 = {list1}, list2 = {list2}\")\n",
        "    list1 = [100, 200, 300]  # Reassigns the local parameter name\n",
        "    list2.append(99)\n",
        "    print(f\"Inside function - after: list1 = {list1}, list2 = {list2}\")\n",
        "\n",
        "global_list1 = [1, 2, 3]\n",
        "global_list2 = [4, 5, 6]\n",
        "\n",
        "print(f\"Before calling function_with_2lists: global_list1 = {global_list1}, global_list2 = {global_list2}\")\n",
        "print('-'*50)\n",
        "function_with_2lists(global_list1, global_list2)\n",
        "print('-'*50)\n",
        "print(f\"After calling function_with_2lists: global_list1 = {global_list1}, global_list2 = {global_list2}\")  # Unchanged!\n",
        "\n",
        "# The parameter name is local, but reassigning it doesn't affect the original object\n"
      ]
    },
    {
      "cell_type": "markdown",
      "metadata": {
        "id": "-Exw0jTkyfQ_"
      },
      "source": [
        "### 1.4 Lambda"
      ]
    },
    {
      "cell_type": "markdown",
      "metadata": {},
      "source": [
        "**What is Lambda?**\n",
        "\n",
        "A **lambda function** is a small, anonymous function that can be defined in a single line. It's useful for simple operations that you only need once, especially when working with functions like `map()`, `filter()`, or `sorted()`.\n",
        "\n",
        "**Syntax:** `lambda arguments: expression`\n",
        "\n",
        "**Key characteristics:**\n",
        "*   **Anonymous:** No function name required\n",
        "*   **Single expression:** Can only contain one expression (no statements)\n",
        "*   **Inline:** Often used directly where a function is expected\n",
        "*   **Temporary:** Best for simple, one-time operations\n"
      ]
    },
    {
      "cell_type": "code",
      "execution_count": null,
      "metadata": {},
      "outputs": [],
      "source": [
        "# Lambda Function Examples\n",
        "\n",
        "# 1. Basic lambda function\n",
        "square = lambda x: x ** 2\n",
        "print(f\"Square of 5: {square(5)}\")\n",
        "\n",
        "# 2. Lambda with multiple arguments\n",
        "add = lambda x, y: x + y\n",
        "print(f\"Add 3 and 4: {add(3, 4)}\")\n",
        "\n",
        "# 3. Lambda with map() - apply function to each element\n",
        "numbers = [1, 2, 3, 4, 5]\n",
        "squared_numbers = list(map(lambda x: x ** 2, numbers))\n",
        "print(f\"Original: {numbers}\")\n",
        "print(f\"Squared: {squared_numbers}\")\n",
        "\n",
        "# 4. Lambda with filter() - keep only elements that meet condition\n",
        "even_numbers = list(filter(lambda x: x % 2 == 0, numbers))\n",
        "print(f\"Even numbers: {even_numbers}\")\n",
        "\n",
        "# 5. Lambda with sorted() - custom sorting\n",
        "students = [(\"Alice\", 85), (\"Bob\", 92), (\"Charlie\", 78)]\n",
        "# Sort by grade (second element of tuple)\n",
        "sorted_by_grade = sorted(students, key=lambda student: student[1])\n",
        "print(f\"Sorted by grade: {sorted_by_grade}\")\n",
        "\n",
        "# 6. Lambda vs regular function (same result)\n",
        "def square_function(x):\n",
        "    return x ** 2\n",
        "\n",
        "print(f\"Lambda: {square(3)}\")\n",
        "print(f\"Function: {square_function(3)}\")\n",
        "\n",
        "# Lambda is more concise for simple operations!\n"
      ]
    },
    {
      "cell_type": "markdown",
      "metadata": {},
      "source": [
        "### **Exercise 1.1 : Function**"
      ]
    },
    {
      "cell_type": "markdown",
      "metadata": {},
      "source": [
        "**Instructions:** Complete the following exercise to test your understanding of:\n",
        "- Function syntax with `def`\n",
        "- Default argument values\n",
        "- Mutable vs immutable arguments\n",
        "\n",
        "**Task:** Create a function called `process_data` that:\n",
        "1. Takes a **list** (mutable) as the first argument\n",
        "2. Takes a **string** (immutable) as the second argument with default value `\"default\"`\n",
        "3. Takes a **number** (immutable) as the third argument with default value `2`\n",
        "4. Appends the string to the list\n",
        "5. Adds the number to each element in the list, when the element is of `int` type.\n",
        "6. **Returns the original list** (the list passed as argument should be modified in place)\n",
        "\n",
        "**Test your function with these calls:**\n",
        "```python\n",
        "# Test 1: All arguments provided\n",
        "l1 = [1, 2, 3]\n",
        "result1 = process_data([1, 2, 3], \"hello\", 10)\n",
        "\n",
        "# Test 2: Using default values\n",
        "l2 = [4, 5.5, 'Mike']\n",
        "result2 = process_data(l2)\n",
        "\n",
        "# Test 3: Check if original list is modified\n",
        "original_list = [10, 20.7, 30]\n",
        "result3 = process_data(original_list, \"test\", 5)\n",
        "print(f\"Original list after function call: {original_list}\")\n",
        "```\n",
        "\n",
        "**Expected behavior:**\n",
        "- The function should modify the original list **in place** (mutable behavior)\n",
        "- The string and number parameters should use default values when not provided\n",
        "- The function should return the original list (which is now modified)\n",
        "- The original list outside the function should be modified\n",
        "\n",
        "The skeleton of the solution is given in the following code. Fill out missing parts."
      ]
    },
    {
      "cell_type": "code",
      "execution_count": null,
      "metadata": {},
      "outputs": [],
      "source": [
        "def process_data(data_list, text=\"default\", number=2):\n",
        "    pass\n",
        "    \n",
        "    # create a copy of the data_list\n",
        "    #old_list = \n",
        "    \n",
        "    # modify the data_list in place\n",
        "    \n",
        "    # return the original list\n",
        "    #return old_list\n",
        "\n",
        "# Test 1: All arguments provided\n",
        "l1 = [1, 2, 3]\n",
        "print(f\"Before calling process_data: l1 = {l1}\")\n",
        "\n",
        "result1 = process_data(l1, \"hello\", 10)\n",
        "print(f\"After calling process_data: l1 = {l1}\")\n",
        "print(f\"result1: {result1}\")\n",
        "\n",
        "print('\\n' + '-'*50)\n",
        "\n",
        "# Test 2: Using default values\n",
        "l2 = [4, 5.5, 'Mike']\n",
        "print(f\"Before calling process_data: l2 = {l2}\")\n",
        "\n",
        "result2 = process_data(l2)\n",
        "print(f\"After calling process_data: l2 = {l2}\")\n",
        "print(f\"result2: {result2}\")\n",
        "\n",
        "print('\\n' + '-'*50)\n",
        "\n",
        "# Test 3: Check if original list is modified\n",
        "l3 = [10, 20.7, 30]\n",
        "print(f\"Before calling process_data: l3 = {l3}\")\n",
        "\n",
        "result3 = process_data(l3, \"test\", 5)\n",
        "print(f\"After calling process_data: l3 = {l3}\")\n",
        "print(f\"result3: {result3}\")\n"
      ]
    },
    {
      "cell_type": "markdown",
      "metadata": {
        "id": "ntNmgBj9zItl"
      },
      "source": [
        "## 2. Elements of Numpy"
      ]
    },
    {
      "cell_type": "markdown",
      "metadata": {},
      "source": [
        "**Why NumPy for ML?**\n",
        "\n",
        "*   NumPy is the foundation of the Python data science ecosystem. Scikit-learn, pandas, and most ML libraries expect NumPy arrays as input. Understanding these core NumPy concepts, i.e.\n",
        "\n",
        "    *   **NumPy arrays** and **their operations**\n",
        "\n",
        "    is essential for machine learning.\n",
        "\n",
        "*   NumPy's Powerful Toolkits. Beyond basic array operations, NumPy provides specialized toolkits:\n",
        "\n",
        "    *   **Statistics** - Built-in statistical functions (mean, std, correlation, etc.)\n",
        "    *   **Linear algebra** - Matrix operations, eigenvalues, SVD, and other linear algebra functions  \n",
        "    *   **Random sampling** - Generate random data for testing and initialization\n",
        "    *   **Mathematical functions** - Trigonometric, logarithmic, and other mathematical operations, such as fast Fourier transform.\n",
        "\n",
        "    These toolkits make NumPy a complete computational foundation for ML algorithms and more generally for science and engineering."
      ]
    },
    {
      "cell_type": "markdown",
      "metadata": {},
      "source": [
        "### 2.1 NumPy Array "
      ]
    },
    {
      "cell_type": "markdown",
      "metadata": {},
      "source": [
        "A **NumPy array** is a multidimensional array object that represents a grid of values, all of the same type. It's like a Python list, but much more powerful and efficient."
      ]
    },
    {
      "cell_type": "markdown",
      "metadata": {},
      "source": [
        "* **Creating arrays from a list (of lists of lists ....)**. "
      ]
    },
    {
      "cell_type": "code",
      "execution_count": null,
      "metadata": {},
      "outputs": [],
      "source": [
        "import numpy as np\n",
        "\n",
        "print('\\n' + '-'*50)\n",
        "# Create a NumPy array from a list\n",
        "list_1d = [1, 2, 3, 4, 5]\n",
        "array_1d = np.array(list_1d)\n",
        "print(\"array_1d: \\n\", array_1d)\n",
        "print(\"the dimension of array_1d: \", np.ndim(array_1d))\n",
        "print(\"the shape of array_1d: \", np.shape(array_1d))\n",
        "print(\"the size of array_1d: \", np.size(array_1d))\n",
        "print(\"the data type of elements of array_1d: \", array_1d.dtype)\n",
        "\n",
        "print('\\n' + '-'*50)\n",
        "# Create a 2D array from a list of lists\n",
        "list_2d = [[1.0, 2.0, 3.0], [4.0, 5.0, 6.0]]\n",
        "array_2d = np.array(list_2d)\n",
        "print(\"array_2d: \\n\", array_2d)\n",
        "print(\"the dimension of array_2d: \", np.ndim(array_2d))\n",
        "print(\"the shape of array_2d: \", np.shape(array_2d))\n",
        "print(\"the size of array_2d: \", np.size(array_2d))\n",
        "print(\"the data type of elements of array_2d: \", array_2d.dtype)\n",
        "\n",
        "print('\\n' + '-'*50)\n",
        "# Create a 3D array from a list of lists of lists\n",
        "list_3d = [[[1, 2, 3], [4, 5, 6]], [[7, 8, 9], [10, 11, 12]]]\n",
        "array_3d = np.array(list_3d)\n",
        "print(\"array_3d: \\n\", array_3d)\n",
        "print(\"the dimension of array_3d: \", np.ndim(array_3d))\n",
        "print(\"the shape of array_3d: \", np.shape(array_3d))\n",
        "print(\"the size of array_3d: \", np.size(array_3d))\n",
        "print(\"the data type of elements of array_3d: \", array_3d.dtype)"
      ]
    },
    {
      "cell_type": "markdown",
      "metadata": {},
      "source": [
        "*   **Array Dimensions:** In the previous example, data (which are scalars) is organised into a hierarchical layered structure.\n",
        "    *   `array_1d` has only one layer (dimension), and its (unique) first layer contains entries which are scalars in our example.\n",
        "    *   `array_2d` adds a new layer: its first layer is a list of lists, also called \"rows\", and each row (the second layer) is itself a list of scalars, i.e. a 1D array. This 2D array is like a matrix (table).\n",
        "    *   `array_3d` goes one further: its first layer consists of \"matrixs\" that ara 2D arrays (second layer). \n",
        "    Array dimensions also refer to the number of axes (directions) along which the array can be indexed. Elements in an $N$-dimensional array are accessed by specifying $N$ indices, one for each dimension. For example, in a 2D array, elements are accessed by specifying a row and a column index. \n",
        "\n",
        "    It might be summarized:\n",
        "\n",
        "    *   1D array (vector) - A sequence of numbers (1 axis)\n",
        "    *   2D array (matrix) - A table of numbers with rows and columns (2 axes)\n",
        "    *   3D array (Tensor) - A cube of numbers (3 axes)\n",
        "    *   nD array (Tensor) - Arrays with n axes"
      ]
    },
    {
      "cell_type": "markdown",
      "metadata": {},
      "source": [
        "*   **Accessing Array Elements via Indices** Array elements are accessed via operator `[]` enclosing a serie of indices separated by `,`, for example `array_3d[0, 2, 1]`. In terms of layers, indices appearing more on the left corresponds to a higher layer than indices appearing more on the right. Here are examples:"
      ]
    },
    {
      "cell_type": "code",
      "execution_count": null,
      "metadata": {},
      "outputs": [],
      "source": [
        "print('-'*50)\n",
        "# Accessing elements in 1D array\n",
        "print('array_1d: \\n', array_1d)\n",
        "print(\"The 1st element in array_1d:\", array_1d[0])\n",
        "print(\"The 2nd element in array_1d:\", array_1d[1])\n",
        "\n",
        "print('-'*50)\n",
        "# Accessing elements in 2D array\n",
        "print('array_2d: \\n', array_2d)\n",
        "idx0, idx1 = 0, 1\n",
        "print(f\"Element array_2d[{idx0}, {idx1}]:\", array_2d[idx0, idx1])\n",
        "idx0, idx1 = 1, 2   \n",
        "print(f\"Element array_2d[{idx0}, {idx1}]:\", array_2d[idx0, idx1])\n",
        "\n",
        "print('-'*50)\n",
        "# Accessing elements in 3D array\n",
        "print('array_3d: \\n', array_3d)\n",
        "idx0, idx1, idx2 = 0, 1, 2\n",
        "print(f\"Element array_3d[{idx0}, {idx1}, {idx2}]:\", array_3d[idx0, idx1, idx2])\n",
        "idx0, idx1, idx2 = 1, 0, 0\n",
        "print(f\"Element array_3d[{idx0}, {idx1}, {idx2}]:\", array_3d[idx0, idx1, idx2]) "
      ]
    },
    {
      "cell_type": "markdown",
      "metadata": {},
      "source": [
        "* **Creating Special Arrays**: NumPy provides several functions to create arrays with specific patterns or values. These are particularly useful for initialization, masking, and data preparation. These special arrays can usually be defined using a tuple, e.g. `(5,5,2)`, that specifies the shape of the array. Commonly used special arrays are\n",
        "\n",
        "    * **Zeros** - Arrays filled with zeros (useful for initialization)\n",
        "    * **Ones** - Arrays filled with ones (useful for bias terms)\n",
        "    * **Full** - Arrays filled with a specific value\n",
        "    * **Identity** - Square matrices with 1s on diagonal, 0s elsewhere\n",
        "    * **Arange** - Arrays with evenly spaced values\n",
        "    * **Linspace** - Arrays with specified number of evenly spaced values\n",
        "\n",
        "Here are examples:"
      ]
    },
    {
      "cell_type": "code",
      "execution_count": null,
      "metadata": {},
      "outputs": [],
      "source": [
        "# 1. Zeros - Arrays filled with zeros\n",
        "print(\"1. Zeros Arrays:\")\n",
        "zeros_1d = np.zeros(5)\n",
        "shape = (3, 4)\n",
        "zeros_2d = np.zeros(shape)\n",
        "print(f\"1D zeros: {zeros_1d}\")\n",
        "print(f\"2D zeros:\\n{zeros_2d}\")"
      ]
    },
    {
      "cell_type": "code",
      "execution_count": null,
      "metadata": {},
      "outputs": [],
      "source": [
        "# 2. Ones - Arrays filled with ones\n",
        "print(\"\\n2. Ones Arrays:\")\n",
        "ones_1d = np.ones(5)\n",
        "ones_2d = np.ones((2, 3))\n",
        "print(f\"1D ones: {ones_1d}\")\n",
        "print(f\"2D ones:\\n{ones_2d}\")"
      ]
    },
    {
      "cell_type": "code",
      "execution_count": null,
      "metadata": {},
      "outputs": [],
      "source": [
        "# 3. Identity Matrix - Square matrix with 1s on diagonal\n",
        "print(\"\\n3. Identity Matrix:\")\n",
        "identity_3x3 = np.eye(3)\n",
        "print(f\"3x3 Identity:\\n{identity_3x3}\")\n",
        "\n",
        "# 4. Full - Arrays filled with specific value\n",
        "print(\"\\n4. Full Arrays:\")\n",
        "full_array = np.full((2, 3), 7)\n",
        "print(f\"Array filled with 7:\\n{full_array}\")"
      ]
    },
    {
      "cell_type": "code",
      "execution_count": null,
      "metadata": {},
      "outputs": [],
      "source": [
        "# 5. Arange - Evenly spaced values\n",
        "print(\"\\n6. Arange (evenly spaced):\")\n",
        "arange_1 = np.arange(0, 10, 2)  # Start, stop, step\n",
        "arange_2 = np.arange(5)         # 0 to 4\n",
        "print(f\"0 to 10, step 2: {arange_1}\")\n",
        "print(f\"0 to 4: {arange_2}\")\n",
        "\n",
        "# 6. Linspace - Specified number of evenly spaced values\n",
        "print(\"\\n7. Linspace (specified number of points):\")\n",
        "linspace_array = np.linspace(0, 10, 5)  # Start, stop, number of points\n",
        "print(f\"5 points from 0 to 10: {linspace_array}\")"
      ]
    },
    {
      "cell_type": "markdown",
      "metadata": {},
      "source": [
        "* **Slicing**: selecting a subset of elements from an array using a range of indices. One can use in place of an indice (e.g. `1`) a range of indices (e.g. `n:N` for the n-th, (n+1)-th, ..., (N-1)-th elements) to select mulitple elements in the associated axe (or layer). Here are examples:"
      ]
    },
    {
      "cell_type": "code",
      "execution_count": null,
      "metadata": {},
      "outputs": [],
      "source": [
        "# 1D Array\n",
        "arr_1d = np.arange(10)  # [0, 1, ..., 9]\n",
        "print(\"\\n1D array:\", arr_1d)\n",
        "print(\"arr_1d[2:5]:\", arr_1d[2:5])    # Elements at indices 2,3,4\n",
        "print(\"arr_1d[4:]:\", arr_1d[4:])      # From index 4 to end\n",
        "print(\"arr_1d[:5]:\", arr_1d[:5])      # From beginning to index 4\n",
        "\n",
        "# 2D Array\n",
        "arr_2d = np.arange(12).reshape(3, 4)\n",
        "print(\"\\n2D array:\\n\", arr_2d)\n",
        "print(\"arr_2d[1:3, 1:3]:\\n\", arr_2d[1:3, 1:3])   # Rows 1-2, columns 1-2\n",
        "print(\"arr_2d[1:, 2]:\\n\", arr_2d[1:, 2])       # Rows 1 to end, columns 0-1\n",
        "print(\"arr_2d[:2, 2:]:\\n\", arr_2d[:2, 2:])       # Rows 0-1, columns 2 to end\n",
        "\n",
        "# 3D Array\n",
        "arr_3d = np.arange(24).reshape(2, 3, 4)\n",
        "print(\"\\n3D array:\\n\", arr_3d)\n",
        "print(\"arr_3d[1:, 1:3, 2:]:\\n\", arr_3d[1:, 1:3, 2:])  # 1st block onward, rows 1-2, cols 2-3\n",
        "print(\"arr_3d[:, 1, :3]:\\n\", arr_3d[:, 1, 3])      # All blocks, first 2 rows, first 3 cols\n",
        "print(\"arr_3d[:1, :, 1:3]:\\n\", arr_3d[:1, :, 1:3])    # First block, all rows, cols 1-2"
      ]
    },
    {
      "cell_type": "markdown",
      "metadata": {},
      "source": [
        "* **Array Combining**: Join multiple arrays into one using operations like concatenation (along rows/columns), stacking (along new dimensions), or merging (based on common indices). Essential for preparing training datasets and combining features from different sources."
      ]
    },
    {
      "cell_type": "code",
      "execution_count": null,
      "metadata": {},
      "outputs": [],
      "source": [
        "# Example 1: Concatenate 1D arrays\n",
        "a = np.array([1, 2, 3])\n",
        "b = np.array([4, 5, 6])\n",
        "concat_1d = np.concatenate((a, b))\n",
        "print(\"Concatenated 1D arrays:\", concat_1d)\n",
        "\n",
        "# Example 2: Concatenate 2D arrays along rows (axis=0) and columns (axis=1)\n",
        "c = np.array([[1, 2], [3, 4]])\n",
        "d = np.array([[5, 6], [7, 8]])\n",
        "concat_2d_axis0 = np.concatenate((c, d), axis=0)  # Stack vertically\n",
        "concat_2d_axis1 = np.concatenate((c, d), axis=1)  # Stack horizontally\n",
        "print(\"Concatenated 2D arrays (axis=0):\\n\", concat_2d_axis0)\n",
        "print(\"Concatenated 2D arrays (axis=1):\\n\", concat_2d_axis1)\n",
        "\n",
        "# Example 3: Stacking arrays (adds a new dimension)\n",
        "x = np.array([1, 2, 3])\n",
        "y = np.array([4, 5, 6])\n",
        "stacked_vert = np.stack((x, y), axis=0)  # shape (2, 3)\n",
        "stacked_horiz = np.stack((x, y), axis=1)  # shape (3, 2)\n",
        "print(\"Stacked vertically (axis=0):\\n\", stacked_vert)\n",
        "print(\"Stacked horizontally (axis=1):\\n\", stacked_horiz)"
      ]
    },
    {
      "cell_type": "markdown",
      "metadata": {},
      "source": [
        "### 2.2 Vectorized operations"
      ]
    },
    {
      "cell_type": "markdown",
      "metadata": {},
      "source": [
        "Vectorized operations in NumPy allow you to perform operations on entire arrays without using explicit loops. This leads to concise code and much faster execution by leveraging low-level optimizations. Here are examples"
      ]
    },
    {
      "cell_type": "code",
      "execution_count": null,
      "metadata": {},
      "outputs": [],
      "source": [
        "# Example 1: Arithmetic on arrays\n",
        "import numpy as np\n",
        "\n",
        "a = np.array([1, 2, 3, 4])\n",
        "b = np.array([10, 20, 30, 40])\n",
        "\n",
        "print(\"a:\", a)\n",
        "print(\"b:\", b)\n",
        "\n",
        "# Add two arrays\n",
        "sum_ab = a + b     \n",
        "# Multiply array by a scalar\n",
        "double_a = 2 * a   \n",
        "# Power array by a scalar\n",
        "power_a = a**2     \n",
        "# Power array by another array\n",
        "power_ab = b**a    \n",
        "\n",
        "print(\"Sum of a and b:\", sum_ab)\n",
        "print(\"Double of a:\", double_a)\n",
        "print(\"Power of a:\", power_a)\n",
        "print(\"Power of a by b:\", power_ab)\n",
        "\n",
        "# Example 2: Element-wise functions\n",
        "c = np.array([0, np.pi / 2, np.pi])\n",
        "sin_c = np.sin(c)   # [0.0, 1.0, 0.0]\n",
        "\n",
        "print(\"c:\", c)\n",
        "print(\"Sine of c:\", sin_c)\n",
        "\n",
        "# Example 3: Boolean operations\n",
        "d = np.array([5, -1, 7, 3])\n",
        "positive_mask = d > 0      \n",
        "print(\"d:\", d)\n",
        "print(\"Is d > 0?:\", positive_mask)\n",
        "\n",
        "# Example 4: Apply a function to all elements\n",
        "squared = np.sqrt(a)\n",
        "print(\"Square root of a:\", squared)\n"
      ]
    },
    {
      "cell_type": "markdown",
      "metadata": {},
      "source": [
        "### 2.3 Mathematical operations"
      ]
    },
    {
      "cell_type": "markdown",
      "metadata": {},
      "source": [
        "NumPy implements a broad range of mathematical operations grouped into several categories. Here are some commonly used ones in each category:\n",
        "\n",
        "1. Arithmetic operations:\n",
        "   - Addition, subtraction, multiplication, division\n",
        "   - Examples: `np.add`, `np.subtract`, `np.multiply`, `np.divide`, `np.power`\n",
        "\n",
        "2. Trigonometric functions:\n",
        "   - Sine, cosine, tangent and their inverses\n",
        "   - Examples: `np.sin`, `np.cos`, `np.tan`, `np.arcsin`, `np.arccos`, `np.arctan`\n",
        "\n",
        "3. Exponentials and logarithms:\n",
        "   - Exponential, logarithm, log10, log2\n",
        "   - Examples: `np.exp`, `np.log`, `np.log10`, `np.log2`\n",
        "\n",
        "4. **Statistical functions**:\n",
        "   - Mean, median, standard deviation, sum, min, max\n",
        "   - Examples: `np.mean`, `np.median`, `np.std`, `np.sum`, `np.min`, `np.max`\n",
        "\n",
        "5. **Linear algebra operations**:\n",
        "   - Dot product, matrix multiplication, eigenvalues, inverse\n",
        "   - Examples: `np.dot`, `np.matmul`, `np.linalg.eig`, `np.linalg.inv`\n",
        "\n",
        "6. **Aggregation and reductions**:\n",
        "   - Compute results over axes (like sum, prod, any, all)\n",
        "   - Examples: `np.sum`, `np.prod`, `np.any`, `np.all` (with axis argument)\n",
        "\n",
        "7. Other special functions:\n",
        "   - Square root, absolute value, rounding, floor, ceil\n",
        "   - Examples: `np.sqrt`, `np.abs`, `np.round`, `np.floor`, `np.ceil`\n",
        "\n",
        "These functions enable efficient data analysis and scientific computation using NumPy arrays.\n",
        "\n",
        "Here are some examples of common use cases"
      ]
    },
    {
      "cell_type": "code",
      "execution_count": null,
      "metadata": {},
      "outputs": [],
      "source": [
        "import numpy as np\n",
        "\n",
        "arr = np.array([[1, 2, 3],\n",
        "                [4, 5, 6]])\n",
        "\n",
        "print('arr: \\n', arr)\n",
        "\n",
        "# Sum all elements\n",
        "print(\"np.sum(arr):\", np.sum(arr))  \n",
        "\n",
        "# Sum along columns (axis=0)\n",
        "print(\"np.sum(arr, axis=0):\", np.sum(arr, axis=0))\n",
        "\n",
        "# Sum along rows (axis=1)\n",
        "print(\"np.sum(arr, axis=1):\", np.sum(arr, axis=1))\n",
        "\n",
        "# Check if all elements are greater than 0\n",
        "print(\"np.all(arr > 0):\", np.all(arr > 0)) \n",
        "\n",
        "# Check if any element is greater than 5\n",
        "print(\"np.any(arr > 5):\", np.any(arr > 5))\n",
        "\n",
        "# Mean of all elements\n",
        "print(\"np.mean(arr):\", np.mean(arr))  \n",
        "\n",
        "# Max and min of all elements\n",
        "print(\"np.max(arr):\", np.max(arr)) \n",
        "print(\"np.min(arr):\", np.min(arr)) \n",
        "\n",
        "# Max along columns\n",
        "print(\"np.max(arr, axis=0):\", np.max(arr, axis=0)) \n",
        "\n",
        "# Min along rows\n",
        "print(\"np.min(arr, axis=1):\", np.min(arr, axis=1)) \n"
      ]
    },
    {
      "cell_type": "markdown",
      "metadata": {},
      "source": [
        "### **Exercice 2.1 : Discover the efficiency of NumPy implementation**"
      ]
    },
    {
      "cell_type": "markdown",
      "metadata": {},
      "source": [
        "`Numpy` is optimised for efficiency thanks to its underlying C implementation. Here we will particularly its efficiency in performing summation.\n",
        "\n",
        "Write code to compare the time taken to sum all elements in a long list using a standard Python loop and the time taken using NumPy's `np.sum` function. This will help you observe the efficiency of NumPy's vectorized implementation!\n",
        "\n",
        "1. Create a list of 10,000,000 random numbers (you can use `numpy.random.rand` to generate an array and convert it to a list).\n",
        "2. Sum all elements using a Python loop (`for` or `sum()`).\n",
        "3. Sum all elements using `np.sum`.\n",
        "4. Measure the execution time for both methods (you can use the `time` module).\n",
        "5. Print the results and compare the time taken.\n",
        "\n",
        "Below is the code skeleton, you can use it to start"
      ]
    },
    {
      "cell_type": "code",
      "execution_count": null,
      "metadata": {},
      "outputs": [],
      "source": [
        "import numpy as np\n",
        "import time\n",
        "\n",
        "# Create large list and numpy array\n",
        "N = 10_000_000\n",
        "data_list = np.random.rand(N).tolist()\n",
        "data_array = np.array(data_list)\n",
        "\n",
        "print('Summing via Python loop ...')\n",
        "# Measure sum using Python's built-in sum or a for loop\n",
        "\n",
        "\n",
        "# print the summation result and the time taken\n",
        "\n",
        "\n",
        "print('Summing via NumPy ...')\n",
        "# Measure sum using numpy's sum\n",
        "\n",
        "\n",
        "# print the summation result and the time taken\n"
      ]
    },
    {
      "cell_type": "markdown",
      "metadata": {
        "id": "N_YunIRbzWEA"
      },
      "source": [
        "## 3. Elements of Matplotlib"
      ]
    },
    {
      "cell_type": "markdown",
      "metadata": {
        "id": "XebpphejzQ0J"
      },
      "source": [
        "Matplotlib is a popular Python library for creating high-quality graphs and visualizations. It is widely used in data analysis, scientific research, and machine learning to present data visually and gain insights. In this section, we will introduce three fundamental topics in Matplotlib:\n",
        "\n",
        "1. Creating plots with lines and points (scatter plots)\n",
        "2. Displaying \"fields\" (e.g. images, matrix, etc) using `imshow`\n",
        "3. Visualizing data distributions with histograms\n",
        "\n",
        "These topics will help you get started with the most common ways to visualize data using Matplotlib. \n",
        "\n",
        "More information and gallery on https://matplotlib.org/stable/ for your use cases."
      ]
    },
    {
      "cell_type": "markdown",
      "metadata": {},
      "source": [
        "### * **Plots**"
      ]
    },
    {
      "cell_type": "markdown",
      "metadata": {},
      "source": [
        "One can plot one variable (implemented with np.array or list) as a function of another variable by lines or point clouds. The former is more adapted to display the variation dependency between the two variables, while the later is more adapted for statistical correlation analysis. Here are two examples."
      ]
    },
    {
      "cell_type": "code",
      "execution_count": null,
      "metadata": {},
      "outputs": [],
      "source": [
        "import matplotlib.pyplot as plt\n",
        "import numpy as np\n",
        "\n",
        "# Example 1: Line plot of cos function from -5 to +5\n",
        "x = np.linspace(-5, 5, 500)\n",
        "y = np.cos(x)\n",
        "plt.figure(figsize=(8, 4))\n",
        "plt.plot(x, y, label='cos(x)')\n",
        "plt.title(\"Cosine Function\")\n",
        "plt.xlabel(\"x\")\n",
        "plt.ylabel(\"cos(x)\")\n",
        "plt.legend()\n",
        "plt.grid(True)\n",
        "plt.show()\n",
        "\n",
        "# Example 2: Point cloud of heights and weights\n",
        "np.random.seed(0)\n",
        "heights = np.random.normal(170, 10, 100)  # cm, mean 170, sd 10\n",
        "weights = heights**1.5*(0.03) + np.random.normal(0, 8, 100)    # kg, mean 65, sd 8\n",
        "\n",
        "plt.figure(figsize=(8, 4))\n",
        "plt.scatter(heights, weights, alpha=0.7, edgecolor='k')\n",
        "plt.title(\"Simulated Person Height vs Weight\")\n",
        "plt.xlabel(\"Height (cm)\")\n",
        "plt.ylabel(\"Weight (kg)\")\n",
        "plt.grid(True)\n",
        "plt.show()\n"
      ]
    },
    {
      "cell_type": "markdown",
      "metadata": {},
      "source": [
        "### * **Display a \"field\"**"
      ]
    },
    {
      "cell_type": "markdown",
      "metadata": {},
      "source": [
        "An image can be represented as a matrix, where each element corresponds to a pixel value.\n",
        "Let's illustrate this with an example using matplotlib:"
      ]
    },
    {
      "cell_type": "code",
      "execution_count": null,
      "metadata": {},
      "outputs": [],
      "source": [
        "from PIL import Image\n",
        "import numpy as np\n",
        "import matplotlib.pyplot as plt\n",
        "\n",
        "img = np.asarray(Image.open('./stinkbug.png'))\n",
        "plt.imshow(img, cmap='gray', vmin=np.min(img), vmax=np.max(img))\n",
        "plt.title(\"Example Black and White Image as a Matrix\")\n",
        "plt.colorbar(label='Pixel Value')\n",
        "plt.show()"
      ]
    },
    {
      "cell_type": "markdown",
      "metadata": {},
      "source": [
        "The function `imshow` is often used to display a matrix or a function of two variables. For example"
      ]
    },
    {
      "cell_type": "code",
      "execution_count": 77,
      "metadata": {},
      "outputs": [
        {
          "data": {
            "image/png": "[encoded data removed]",
            "text/plain": [
              "<Figure size 640x480 with 2 Axes>"
            ]
          },
          "metadata": {},
          "output_type": "display_data"
        },
        {
          "data": {
            "image/png": "[encoded data removed]",
            "text/plain": [
              "<Figure size 640x480 with 2 Axes>"
            ]
          },
          "metadata": {},
          "output_type": "display_data"
        }
      ],
      "source": [
        "# Example 1: Display a matrix using imshow\n",
        "matrix = np.array([[1, 2, 3],\n",
        "                   [4, 5, 6],\n",
        "                   [7, 8, 9]])\n",
        "plt.imshow(matrix, cmap='viridis')\n",
        "plt.title(\"Displaying a Matrix with imshow\")\n",
        "plt.colorbar(label='Value')\n",
        "plt.show()\n",
        "\n",
        "# Example 2: Displaying sin(x) * sin(y) as a field\n",
        "x = np.linspace(0, 2 * np.pi, 100)\n",
        "y = np.linspace(0, 2 * np.pi, 100)\n",
        "X, Y = np.meshgrid(x, y)\n",
        "Z = np.sin(X) * np.sin(Y)\n",
        "\n",
        "plt.imshow(Z, extent=[x.min(), x.max(), y.min(), y.max()], origin='lower',\n",
        "           cmap='coolwarm', aspect='auto')\n",
        "plt.title(r\"Field: $\\sin(x)\\sin(y)$\")\n",
        "plt.xlabel('x')\n",
        "plt.ylabel('y')\n",
        "plt.colorbar(label='Value')\n",
        "plt.show()"
      ]
    },
    {
      "cell_type": "markdown",
      "metadata": {},
      "source": [
        "* **Histogram**: it is often very useful to plot the histogram of a property of a large amount of samples. It tells how the population distributed with respect to this property. Here is an example"
      ]
    },
    {
      "cell_type": "code",
      "execution_count": 78,
      "metadata": {},
      "outputs": [
        {
          "data": {
            "image/png": "[encoded data removed]",
            "text/plain": [
              "<Figure size 640x480 with 1 Axes>"
            ]
          },
          "metadata": {},
          "output_type": "display_data"
        }
      ],
      "source": [
        "# Example: Histogram of height distribution of adult males\n",
        "\n",
        "# Simulate some height data (in centimeters) for adult males\n",
        "mean_height = 175   # mean height in cm\n",
        "std_dev = 7         # standard deviation in cm\n",
        "num_samples = 1000  # number of samples\n",
        "\n",
        "heights = np.random.normal(loc=mean_height, scale=std_dev, size=num_samples)\n",
        "\n",
        "plt.hist(heights, bins=25, color='skyblue', edgecolor='black')\n",
        "plt.title(\"Histogram of Height Distribution (Adult Male)\")\n",
        "plt.xlabel(\"Height (cm)\")\n",
        "plt.ylabel(\"Frequency\")\n",
        "plt.grid(axis='y', alpha=0.75)\n",
        "plt.show()\n"
      ]
    },
    {
      "cell_type": "code",
      "execution_count": null,
      "metadata": {
        "colab": {
          "base_uri": "https://localhost:8080/"
        },
        "id": "K1Xq3u-fQ9xi",
        "outputId": "39c4677c-e425-4c14-b725-48dc1f57d81d"
      },
      "outputs": [],
      "source": []
    },
    {
      "cell_type": "code",
      "execution_count": null,
      "metadata": {
        "colab": {
          "base_uri": "https://localhost:8080/"
        },
        "id": "idGBrfe0RIqH",
        "outputId": "2d38adf0-9c68-44ae-8058-6e8e2879caef"
      },
      "outputs": [],
      "source": [
        "print(pn)"
      ]
    },
    {
      "cell_type": "code",
      "execution_count": null,
      "metadata": {
        "id": "fThOR7K_RPEa"
      },
      "outputs": [],
      "source": [
        "def f(idx=0):\n",
        "  print(idx)\n",
        "  if idx<100:\n",
        "    f(idx+1)\n"
      ]
    },
    {
      "cell_type": "code",
      "execution_count": null,
      "metadata": {
        "colab": {
          "base_uri": "https://localhost:8080/"
        },
        "id": "91_WuavFXfIb",
        "outputId": "9bea9155-aad5-4163-b870-8f0f56d19c5e"
      },
      "outputs": [],
      "source": [
        "print(type(int()))\n",
        "print(type(f))"
      ]
    },
    {
      "cell_type": "code",
      "execution_count": null,
      "metadata": {
        "colab": {
          "base_uri": "https://localhost:8080/",
          "height": 141
        },
        "id": "1f8ARJUTXgMM",
        "outputId": "5ee6e454-4254-4d4e-eb4c-e8cfd2359b3a"
      },
      "outputs": [],
      "source": [
        "print(jj)"
      ]
    },
    {
      "cell_type": "code",
      "execution_count": null,
      "metadata": {
        "id": "sb949IMPXjdl"
      },
      "outputs": [],
      "source": [
        "def f(*arg, **kwargs):\n",
        "\n",
        "  for item in arg:\n",
        "    print(item)\n",
        "    item = 'changed'\n",
        "  # arg[0] = 'New'\n",
        "  for key, value in kwargs.items():\n",
        "    print(key, value, ' id.', id(value))\n",
        "    kwargs[key] = 'changed'"
      ]
    },
    {
      "cell_type": "code",
      "execution_count": null,
      "metadata": {
        "colab": {
          "base_uri": "https://localhost:8080/"
        },
        "id": "pOxZMLVA0M7Q",
        "outputId": "b996261f-3e48-45bf-dc1a-235c5ad800f3"
      },
      "outputs": [],
      "source": [
        "l = ['5', '9']\n",
        "f(l[0], l[1], mam=l[0], wm=True)"
      ]
    },
    {
      "cell_type": "code",
      "execution_count": null,
      "metadata": {
        "colab": {
          "base_uri": "https://localhost:8080/"
        },
        "id": "yptMtvJv0USr",
        "outputId": "5a774c17-f3bf-42ed-ee94-ce2a690b0ead"
      },
      "outputs": [],
      "source": [
        "id(l[0])"
      ]
    },
    {
      "cell_type": "code",
      "execution_count": null,
      "metadata": {
        "colab": {
          "base_uri": "https://localhost:8080/"
        },
        "id": "8-fC90sn0qav",
        "outputId": "1b6b2cf3-dc63-4e91-de63-df4fd942f786"
      },
      "outputs": [],
      "source": [
        "l"
      ]
    },
    {
      "cell_type": "code",
      "execution_count": null,
      "metadata": {
        "id": "KTsCQAEc1x0R"
      },
      "outputs": [],
      "source": []
    }
  ],
  "metadata": {
    "colab": {
      "provenance": []
    },
    "kernelspec": {
      "display_name": "Python 3",
      "name": "python3"
    },
    "language_info": {
      "codemirror_mode": {
        "name": "ipython",
        "version": 3
      },
      "file_extension": ".py",
      "mimetype": "text/x-python",
      "name": "python",
      "nbconvert_exporter": "python",
      "pygments_lexer": "ipython3",
      "version": "3.12.3"
    }
  },
  "nbformat": 4,
  "nbformat_minor": 0
}
