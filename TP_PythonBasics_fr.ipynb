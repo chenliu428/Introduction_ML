{
  "cells": [
    {
      "cell_type": "markdown",
      "metadata": {
        "id": "4T-9HU-YogkE"
      },
      "source": [
        "# Bases de Python\n",
        "---"
      ]
    },
    {
      "cell_type": "markdown",
      "metadata": {
        "id": "M-U_HeJCpAdv"
      },
      "source": [
        "## 1. Notebook"
      ]
    },
    {
      "cell_type": "markdown",
      "metadata": {
        "id": "G0PvI2B86vJC"
      },
      "source": [
        "### Structure de l'interface utilisateur\n",
        "- Bloc Markdown comme celui-ci.\n",
        "- Bloc de code comme le suivant."
      ]
    },
    {
      "cell_type": "code",
      "execution_count": null,
      "metadata": {
        "id": "AT3O0pEUrLsg"
      },
      "outputs": [],
      "source": [
        "# Ceci est un bloc de code Python.\n",
        "# Tout texte derrière '#' est un commentaire en Python.\n",
        "\n",
        "print('Ceci est la première ligne de code Python.')\n",
        "print('Bonjour le monde !')\n",
        "\n",
        "# La sortie imprimée d'un extrait de code Python dans un bloc de code apparaît juste en dessous du bloc"
      ]
    },
    {
      "cell_type": "markdown",
      "metadata": {
        "id": "NslLc-FvgsLe"
      },
      "source": [
        "  - Autres éléments d'interface dans Colab :\n",
        "    - Terminal - Une session shell sur l'ordinateur virtuel distant fourni par Google.\n",
        "    - Variables - Un système de suivi convivial des \"variables\" déclarées, aussi appelées \"références\" ou \"noms\", dans une session REPL Python actuellement utilisée.\n",
        "    - Gemini - pas besoin d'expliquer ce que c'est, mais un rappel que *cela pourrait être un outil puissant pour l'apprentissage lorsqu'il est utilisé de manière critique*. Suggestions :\n",
        "      - La réponse de Gemini reflète la qualité de votre question --> utilisez-le comme un outil pour pratiquer votre formulation de questions pour la clarté et la précision.\n",
        "      - Gemini est bon pour la collecte d'informations précises et rapides dans un contexte de boucle logique courte --> défiez sa réponse quand la conversation implique une logique complexe avec votre propre contribution.\n",
        "      - Déduisez vos propres idées ou conclusions de la conversation, puis vérifiez-les avec Gemini, encore une fois la clarté et la précision de votre formulation d'entrée est cruciale."
      ]
    },
    {
      "cell_type": "markdown",
      "metadata": {
        "id": "rFOPVr4px_XI"
      },
      "source": [
        "### Comment écrire du Markdown de base :"
      ]
    },
    {
      "cell_type": "markdown",
      "metadata": {
        "id": "-HAYEOxz7c29"
      },
      "source": [
        "Essayez le markdown suivant dans un nouveau bloc markdown. Créez une cellule markdown en appuyant sur le bouton \"+Text\".\n",
        "```\n",
        "# Titre\n",
        "\n",
        "## Section\n",
        "\n",
        "Ceci est une formule en ligne utilisant Latex : $f(x)=ax+b$. Ceci est une formule en bloc $$f(x)=ax+b$$\n",
        "Retour au texte.\n",
        "\n",
        "## Sous-section\n",
        "\n",
        "### Sous-sous-section\n",
        "\n",
        "Vous pouvez taper des énumérations et des éléments en hiérarchie\n",
        "\n",
        "Comment mettre un éléphant dans un frigo ?\n",
        "1. Ouvrir la porte du frigo,\n",
        "2. Mettre l'éléphant à l'intérieur,\n",
        "3. Fermer la porte !\n",
        "\n",
        "Quels sont les éléments dans votre chambre :\n",
        "- Bureau\n",
        "  - abc\n",
        "  - def\n",
        "    - kk\n",
        "    - gg\n",
        "- Lit\n",
        "- Ordinateur\n",
        "- Chaise\n",
        "\n",
        "_italique_ , *aussi italique* , __gras__\n",
        "\n",
        "#### Quelques autres remarques\n",
        "* Google ou demandez aux LLM pour d'autres astuces Markdown.\n",
        "* Les fichiers avec l'extension \".md\" sont des fichiers markdown.\n",
        "```"
      ]
    },
    {
      "cell_type": "markdown",
      "metadata": {
        "id": "LOOW1hLEzJC4"
      },
      "source": [
        "### Session REPL Python"
      ]
    },
    {
      "cell_type": "markdown",
      "metadata": {
        "id": "GGytiw-t7upy"
      },
      "source": [
        "- REPL = Read-Evaluation-Print-Loop (Boucle Lire-Évaluer-Afficher-Répéter). Le notebook ouvre une session REPL qui fonctionne selon la boucle suivante :\n",
        "  - Lire une ligne de code Python\n",
        "  - Évaluer ce code = vérifier et exécuter via l'interpréteur Python\n",
        "  - Afficher en retour le résultat imprimé, s’il y en a un\n",
        "\n",
        "- Un interpréteur Python, aussi appelé « noyau » (« kernel »), est essentiel pour que le Notebook puisse exécuter une session REPL.\n",
        "\n",
        "- Toutes les cellules de code sont exécutées dans la même session REPL Python. Ainsi, l’historique d’exécution des cellules (et non leur ordre d’apparition dans le Notebook) est important. Voici un exemple."
      ]
    },
    {
      "cell_type": "code",
      "execution_count": null,
      "metadata": {
        "id": "8kS-XKOtgGyn"
      },
      "outputs": [],
      "source": [
        "# Cellule de code apparaissant en premier\n",
        "print('X=', X)"
      ]
    },
    {
      "cell_type": "code",
      "execution_count": null,
      "metadata": {
        "id": "0pW1MXZZ2kLF"
      },
      "outputs": [],
      "source": [
        "# Cellule de code apparaissant en second\n",
        "X=12903"
      ]
    },
    {
      "cell_type": "markdown",
      "metadata": {
        "id": "F9FQ5Rz-4AXB"
      },
      "source": [
        "### Exécution de programmes Python dans le terminal"
      ]
    },
    {
      "cell_type": "markdown",
      "metadata": {
        "id": "v--6jruY7mEO"
      },
      "source": [
        "Copiez le code suivant dans un fichier nommé \"printX.py\"\n",
        "\n",
        "```\n",
        "X = 133232\n",
        "print('X=', X)\n",
        "```\n",
        "\n",
        "et copiez-le sur votre machine virtuelle Colab sous l'emplacement /content. Puis dans le terminal, tapez\n",
        "\n",
        "```\n",
        "python3 /content/printX.py\n",
        "```\n",
        "\n",
        "Dans ce cas, le programme python est exécuté par l'interpréteur python ligne par ligne du haut vers le bas sans interruption (s'il n'y a pas d'erreurs)."
      ]
    },
    {
      "cell_type": "markdown",
      "metadata": {
        "id": "MWNOMbQW8SE5"
      },
      "source": [
        "## 2. Les \"Trois Couches\" de Python"
      ]
    },
    {
      "cell_type": "markdown",
      "metadata": {
        "id": "7f5fe2e9"
      },
      "source": [
        "### 2.1 Fonctions et Types **Intégrés**\n",
        "\n",
        "Ce sont les composants de base de Python qui sont toujours disponibles. Vous n'avez pas besoin d'importer quoi que ce soit pour les utiliser. Ce sont des éléments de construction fondamentaux du langage.\n",
        "\n",
        "Les exemples incluent :\n",
        "\n",
        "*   `print()` : Affiche la sortie sur la console.\n",
        "*   `len()` : Retourne le nombre d'éléments dans un objet.\n",
        "*   `type()` : Retourne le type d'un objet.\n",
        "*   `int()`, `str()`, `list()` : Fonctions pour convertir entre différents types de données."
      ]
    },
    {
      "cell_type": "code",
      "execution_count": null,
      "metadata": {
        "id": "8fd66454"
      },
      "outputs": [],
      "source": [
        "# Exemples de fonctions intégrées\n",
        "print(\"Ceci est une fonction intégrée.\")\n",
        "my_string = \"Python\"\n",
        "print(len(my_string))\n",
        "print(type(my_string))\n",
        "my_number_string = \"100\"\n",
        "my_number_int = int(my_number_string)\n",
        "print(my_number_int)"
      ]
    },
    {
      "cell_type": "markdown",
      "metadata": {
        "id": "c635ce47"
      },
      "source": [
        "### 2.2 Modules de la Bibliothèque Standard\n",
        "\n",
        "La bibliothèque standard Python est une collection de modules qui sont inclus avec Python mais qui doivent être importés pour être utilisés. Ces modules fournissent une large gamme de fonctionnalités pour les tâches de programmation courantes.\n",
        "\n",
        "Les exemples incluent :\n",
        "\n",
        "*   `math` : Fournit des fonctions mathématiques.\n",
        "*   `random` : Fournit des fonctions pour générer des nombres aléatoires.\n",
        "*   `datetime` : Fournit des classes pour travailler avec les dates et heures.\n",
        "\n",
        "Pour importer ces bibliothèques\n",
        "```\n",
        "import <nom_de_la_bibliothèque>\n",
        "```\n",
        "puis elle peut servir.\n",
        "\n",
        "Exemples :"
      ]
    },
    {
      "cell_type": "code",
      "execution_count": null,
      "metadata": {
        "id": "16c68a41"
      },
      "outputs": [],
      "source": [
        "# Exemples de modules de la bibliothèque standard\n",
        "import math\n",
        "print(math.sqrt(25))\n",
        "\n",
        "import random\n",
        "print(random.choice([\"pomme\", \"banane\", \"cerise\"]))\n",
        "\n",
        "import datetime\n",
        "today = datetime.date.today()\n",
        "print(today)"
      ]
    },
    {
      "cell_type": "markdown",
      "metadata": {
        "id": "3de536b9"
      },
      "source": [
        "### 2.3 Bibliothèques Personnalisées (Tierces)\n",
        "\n",
        "Ce sont des bibliothèques développées par des personnes extérieures à l'équipe de développement principale de Python. Elles ne sont pas incluses avec Python par défaut et doivent être installées séparément en utilisant un gestionnaire de paquets comme `pip`. Ces bibliothèques offrent des outils spécialisés pour divers domaines.\n",
        "\n",
        "Les exemples incluent :\n",
        "\n",
        "*   `pandas` : Pour la manipulation et l'analyse de données.\n",
        "*   `numpy` : Pour le calcul numérique.\n",
        "*   `matplotlib` : Pour créer des visualisations.\n",
        "*   `scikit-learn` : Pour l'apprentissage automatique."
      ]
    },
    {
      "cell_type": "markdown",
      "metadata": {
        "id": "47b637cd"
      },
      "source": [
        "Pour utiliser une bibliothèque personnalisée, vous devez d'abord l'installer. Vous pouvez le faire dans Colab en utilisant `!pip install`. Par exemple, pour installer la bibliothèque `requests` :"
      ]
    },
    {
      "cell_type": "code",
      "execution_count": null,
      "metadata": {
        "id": "e7d937f6"
      },
      "outputs": [],
      "source": [
        "# Exemple d'installation d'une bibliothèque personnalisée\n",
        "!pip install requests"
      ]
    },
    {
      "cell_type": "markdown",
      "metadata": {
        "id": "a368a9b3"
      },
      "source": [
        "Après l'installation, vous pouvez importer et utiliser la bibliothèque :"
      ]
    },
    {
      "cell_type": "code",
      "execution_count": null,
      "metadata": {
        "id": "036cdc6f"
      },
      "outputs": [],
      "source": [
        "# Exemple d'utilisation d'une bibliothèque personnalisée (requests)\n",
        "import requests\n",
        "\n",
        "response = requests.get(\"https://www.google.com\")\n",
        "print(response.status_code)"
      ]
    },
    {
      "cell_type": "markdown",
      "metadata": {
        "id": "IZJ7e3vNyOg2"
      },
      "source": [
        "### **Exercice 2.1 : Mesurer le Temps d'Exécution du Code**"
      ]
    },
    {
      "cell_type": "markdown",
      "metadata": {
        "id": "e2bf974e"
      },
      "source": [
        "> Votre tâche est d'écrire un script Python qui mesure le temps nécessaire à l'exécution d'un bloc de code spécifique.\n",
        ">\n",
        ">Voici ce que vous devez faire :\n",
        ">\n",
        ">1.  **Importer le module `time` :** Vous aurez besoin des fonctions du module intégré `time` de Python pour enregistrer le temps.\n",
        ">\n",
        ">2.  **Enregistrer l'heure de début :** Obtenez l'heure actuelle juste avant le début du bloc de code que vous souhaitez mesurer. Utilisez la fonction `time.time()` pour obtenir l'heure actuelle en secondes depuis l'époque (epoch), sous la forme d'un nombre à virgule flottante, et stockez-la dans une variable (par exemple `start_time`).\n",
        ">\n",
        ">3.  **Inclure le bloc de code à mesurer :** Pour cet exercice, nous utiliserons `time.sleep(10)` comme bloc de code afin de simuler une tâche qui prend 10 secondes à s'exécuter. Dans un vrai scénario, cela serait remplacé par le code que vous souhaitez chronométrer.\n",
        ">\n",
        ">4.  **Enregistrer l'heure de fin :** Obtenez l'heure actuelle juste après la fin de l'exécution du bloc de code, à nouveau avec `time.time()`. Stockez-la dans une autre variable (par exemple `end_time`).\n",
        ">\n",
        ">5.  **Calculer la différence de temps :** Soustrayez l'heure de début de l'heure de fin pour obtenir la durée d'exécution du bloc de code. Stockez ce résultat dans une variable (par exemple `time_difference`).\n",
        ">\n",
        ">6.  **Afficher les résultats :** Affichez l'heure de début, l'heure de fin et la différence de temps calculée dans un format clair, par exemple \"L'heure de début est ...\".\n",
        ">\n",
        ">7. En utilisant cet exemple, réfléchissez à la façon dont les fonctions d’un module sont appelées ? Imprimez votre réponse."
      ]
    },
    {
      "cell_type": "markdown",
      "metadata": {
        "id": "VQUooberym5G"
      },
      "source": [
        "### **Exercice 2.2 : Lister les Bibliothèques Installées**"
      ]
    },
    {
      "cell_type": "markdown",
      "metadata": {
        "id": "cd0d2066"
      },
      "source": [
        "> Votre tâche est de trouver un moyen d'afficher une liste de toutes les bibliothèques Python actuellement installées dans votre environnement Colab en utilisant le terminal.\n",
        ">\n",
        "> Demandez à un LLM la ligne de commande à utiliser dans le terminal pour cette tâche et exécutez-la dans votre terminal Colab.\n",
        ">\n",
        "> Qu'est-ce que \"pip\" dans le contexte de la programmation Python ?"
      ]
    },
    {
      "cell_type": "markdown",
      "metadata": {
        "id": "eb0cbf36"
      },
      "source": [
        "## 3. Explorer Python avec : `help()`, `type()`, et `dir()`"
      ]
    },
    {
      "cell_type": "markdown",
      "metadata": {
        "id": "4a220137"
      },
      "source": [
        "Explorons ces fonctions intégrées utiles en Python."
      ]
    },
    {
      "cell_type": "markdown",
      "metadata": {
        "id": "aeefbf67"
      },
      "source": [
        "### `help()`\n",
        "\n",
        "La fonction `help()` est votre référence pour l'aide interactive. Elle fournit une documentation détaillée sur les fonctions, modules, classes, mots-clés, etc. Quand vous appelez `help()` sur un objet, elle affiche sa docstring et d'autres informations pertinentes."
      ]
    },
    {
      "cell_type": "code",
      "execution_count": null,
      "metadata": {
        "id": "ef421394"
      },
      "outputs": [],
      "source": [
        "# Obtenir de l'aide sur la fonction print intégrée\n",
        "help(print)"
      ]
    },
    {
      "cell_type": "code",
      "execution_count": null,
      "metadata": {
        "id": "649b2798"
      },
      "outputs": [],
      "source": [
        "# Obtenir de l'aide sur le type de données string\n",
        "help(str)"
      ]
    },
    {
      "cell_type": "code",
      "execution_count": null,
      "metadata": {
        "id": "4fe28bd8"
      },
      "outputs": [],
      "source": [
        "# Obtenir de l'aide sur un module (par exemple, math)\n",
        "import math\n",
        "help(math)"
      ]
    },
    {
      "cell_type": "code",
      "execution_count": null,
      "metadata": {
        "id": "7eb8ae83"
      },
      "outputs": [],
      "source": [
        "# Obtenir de l'aide sur une méthode d'un objet (par exemple, la méthode append d'une liste)\n",
        "my_list = [1, 2, 3]\n",
        "help(my_list.append)"
      ]
    },
    {
      "cell_type": "markdown",
      "metadata": {
        "id": "c76c7a9d"
      },
      "source": [
        "### `type()`\n",
        "\n",
        "La fonction `type()` retourne le type d'un objet. C'est utile pour comprendre avec quel type de données vous travaillez et quelles opérations sont disponibles pour ce type."
      ]
    },
    {
      "cell_type": "code",
      "execution_count": null,
      "metadata": {
        "id": "0f467bc5"
      },
      "outputs": [],
      "source": [
        "# Vérifier le type d'un entier\n",
        "x = 10\n",
        "print(type(x))\n",
        "\n",
        "# Vérifier le type d'une chaîne\n",
        "y = \"Hello\"\n",
        "print(type(y))\n",
        "\n",
        "# Vérifier le type d'une liste\n",
        "z = [1, 2, 3]\n",
        "print(type(z))\n",
        "\n",
        "# Vérifier le type d'une fonction\n",
        "def my_function():\n",
        "  pass\n",
        "print(type(my_function))"
      ]
    },
    {
      "cell_type": "markdown",
      "metadata": {
        "id": "81ced1a4"
      },
      "source": [
        "### `dir()`\n",
        "\n",
        "La fonction `dir()` retourne une liste de noms (attributs et méthodes) dans la portée actuelle, ou d'un objet. C'est utile pour découvrir ce que vous pouvez faire avec un objet ou quels noms sont définis dans un module ou une classe."
      ]
    },
    {
      "cell_type": "code",
      "execution_count": null,
      "metadata": {
        "id": "7112a1f6"
      },
      "outputs": [],
      "source": [
        "# Lister les noms dans la portée actuelle (c'est-à-dire la session REPL Python actuelle dans le Notebook)\n",
        "print(dir())\n",
        "\n",
        "# Lister les attributs et méthodes d'un objet string\n",
        "my_string = \"Python\"\n",
        "print(dir(my_string))\n",
        "\n",
        "# Lister les attributs et méthodes d'un objet list\n",
        "my_list = [1, 2, 3]\n",
        "print(dir(my_list))\n",
        "\n",
        "# Lister les noms dans un module (par exemple, math)\n",
        "import math\n",
        "print(dir(math))"
      ]
    },
    {
      "cell_type": "markdown",
      "metadata": {
        "id": "db18d612"
      },
      "source": [
        "Ces trois fonctions sont des outils inestimables pour explorer et comprendre Python pendant que vous codez. Utilisez-les chaque fois que vous rencontrez un objet ou une fonction que vous ne connaissez pas !"
      ]
    },
    {
      "cell_type": "markdown",
      "metadata": {
        "id": "Yg0lL96FyyjF"
      },
      "source": [
        "### **Exercice 3.1 : Diviser une Chaîne avec l'aide de `dir()` et `help()`**"
      ]
    },
    {
      "cell_type": "markdown",
      "metadata": {
        "id": "799d1a85"
      },
      "source": [
        "> Votre tâche est de diviser la chaîne `\"apple$banana$kiwi$peach$melon\"` en noms de fruits individuels.\n",
        ">\n",
        "> Voici comment l'aborder en utilisant `dir()` et `help()` :\n",
        ">\n",
        "> 1. **Définir la chaîne :** Créez une variable (par exemple, `fruit_string`) et assignez-lui la chaîne `\"apple$banana$kiwi$peach$melon\"`.\n",
        "> 2. **Explorer les méthodes de chaîne :** Utilisez `dir()` sur votre variable `fruit_string` pour voir une liste des méthodes disponibles pour les objets string. Cherchez une méthode qui semble pouvoir être utilisée pour diviser une chaîne basée sur un délimiteur.\n",
        "> 3. **Obtenir de l'aide sur la méthode potentielle :** Une fois que vous avez identifié une méthode prometteuse (indice : cherchez quelque chose lié à \"split\"), utilisez `help()` sur cette méthode (par exemple, `help(fruit_string.<nom_méthode>)`) pour lire sa documentation et comprendre comment l'utiliser.\n",
        "> 4. **Appliquer la méthode :** Utilisez la méthode que vous avez trouvée pour diviser `fruit_string` par le caractère \"$\". Stockez le résultat dans une nouvelle variable appelée `splits`.\n",
        "> 5. **Examiner le résultat :**\n",
        ">    - Imprimez le résultat.\n",
        ">    - Imprimez le type de la variable `splits` pour voir quel type de structure de données la méthode de division a retourné.\n",
        ">\n",
        ">Un squelette de la solution de code est donné dans la cellule de code suivante.\n",
        ">\n",
        ">PS : Vous pouvez très bien diviser l'extrait de code en différentes cellules de code pour faciliter la lecture du texte retourné."
      ]
    },
    {
      "cell_type": "code",
      "execution_count": null,
      "metadata": {
        "id": "25e9bedd"
      },
      "outputs": [],
      "source": [
        "# 1. Définir la chaîne\n",
        "fruit_string = \"apple$banana$kiwi$peach$melon\"\n",
        "\n",
        "# 2. Explorer les méthodes de chaîne en utilisant dir()\n",
        "\n",
        "# 3. Obtenir de l'aide sur la méthode potentielle en utilisant help()\n",
        "\n",
        "# 4. Appliquer la méthode pour diviser la chaîne et stocker dans 'splits'\n",
        "splits =\n",
        "\n",
        "# 5. Examiner le résultat\n",
        "# Imprimer le résultat \"splits\"\n",
        "\n",
        "\n",
        "# Imprimer le type de \"splits\"\n"
      ]
    },
    {
      "cell_type": "markdown",
      "metadata": {
        "id": "i1-yU83xkHkG"
      },
      "source": [
        "## 4. Types Intégrés"
      ]
    },
    {
      "cell_type": "markdown",
      "metadata": {
        "id": "5eG9Vtz57XpR"
      },
      "source": [
        "### 4.1 Types"
      ]
    },
    {
      "cell_type": "markdown",
      "metadata": {
        "id": "39f0bc6f"
      },
      "source": [
        "En Python, il y a plusieurs types de données intégrés que vous pouvez utiliser. Voici quelques-uns des plus courants :\n"
      ]
    },
    {
      "cell_type": "markdown",
      "metadata": {
        "id": "GJEpqocx6RNj"
      },
      "source": [
        "*   **Types Numériques :**\n",
        "    *   `int` : Entiers (par exemple, `1`, `-10`, `100000`).\n",
        "    *   `float` : Nombres à virgule flottante (par exemple, `3.14`, `-0.001`, `2e10`).\n",
        "    *   `complex` : Nombres complexes (par exemple, `1 + 2j`, `-3j`).\n"
      ]
    },
    {
      "cell_type": "code",
      "execution_count": null,
      "metadata": {
        "id": "886c60f8"
      },
      "outputs": [],
      "source": [
        "# Exemples de déclaration de types numériques\n",
        "\n",
        "# Entier\n",
        "my_integer = 10\n",
        "print(f\"Entier: {my_integer}, Type: {type(my_integer)}\")\n",
        "\n",
        "# Autre exemple d'entier\n",
        "large_integer = 1000000000\n",
        "print(f\"Grand Entier: {large_integer}, Type: {type(large_integer)}\")\n",
        "\n",
        "# Flottant\n",
        "my_float = 3.14\n",
        "print(f\"Flottant: {my_float}, Type: {type(my_float)}\")\n",
        "\n",
        "# Autre exemple de flottant (notation scientifique)\n",
        "small_float = 2.5e-4\n",
        "print(f\"Petit Flottant: {small_float}, Type: {type(small_float)}\")\n",
        "\n",
        "# Nombre complexe\n",
        "my_complex = 1.467 + 2j\n",
        "print(f\"Complexe: {my_complex}, Type: {type(my_complex)}\")\n",
        "\n"
      ]
    },
    {
      "cell_type": "markdown",
      "metadata": {
        "id": "4kpfxjYf6Tc2"
      },
      "source": [
        "*   **Types de Séquence :**\n",
        "    *   `str` : Chaînes (séquences de caractères) (par exemple, `\"hello\"`, `'Python'`).\n",
        "    *   `range` : Représente une séquence immuable de nombres, souvent utilisée dans les boucles (par exemple, `range(5)`).\n",
        "    *   `list` : Séquences ordonnées et mutables (par exemple, `[1, 2, 3]`, `['a', 'b']`).\n",
        "    *   `tuple` : Séquences ordonnées et immuables (par exemple, `(1, 2, 3)`, `('x', 'y')`).\n"
      ]
    },
    {
      "cell_type": "code",
      "execution_count": null,
      "metadata": {
        "id": "c789dfa6"
      },
      "outputs": [],
      "source": [
        "# Déclarer une chaîne\n",
        "my_string = \"Ceci est une chaîne.\"\n",
        "print(f\"Valeur: {my_string}, Type: {type(my_string)}\")\n",
        "\n",
        "# Déclarer un range\n",
        "my_range = range(10)\n",
        "print(f\"Valeur: {my_range}, Type: {type(my_range)}\")\n",
        "\n",
        "# Déclarer une liste\n",
        "my_list = [1, 2, 3, 4, 5]\n",
        "print(f\"Valeur: {my_list}, Type: {type(my_list)}\")\n",
        "\n",
        "# Déclarer un tuple\n",
        "my_tuple = (10, 20, 30)\n",
        "print(f\"Valeur: {my_tuple}, Type: {type(my_tuple)}\")"
      ]
    },
    {
      "cell_type": "markdown",
      "metadata": {
        "id": "xJWdyEze6WCd"
      },
      "source": [
        "*   **Types d'Ensemble :**\n",
        "    *   `set` : Collections non ordonnées d'éléments uniques (par exemple, `{1, 2, 3}`, `{'pomme', 'banane'}`).\n",
        "    *   `frozenset` : Version immuable d'un ensemble.\n"
      ]
    },
    {
      "cell_type": "code",
      "execution_count": null,
      "metadata": {
        "id": "a18ba00f"
      },
      "outputs": [],
      "source": [
        "# Déclarer un ensemble\n",
        "my_set = {1, 2, 3, 4, 5}\n",
        "print(f\"Valeur: {my_set}, Type: {type(my_set)}\")\n",
        "\n",
        "# Déclarer un frozenset\n",
        "my_frozenset = frozenset([10, 20, 30])\n",
        "print(f\"Valeur: {my_frozenset}, Type: {type(my_frozenset)}\")"
      ]
    },
    {
      "cell_type": "markdown",
      "metadata": {
        "id": "LN66ctQ26Zeu"
      },
      "source": [
        "*   **Types de Mapping :**\n",
        "    *   `dict` : Dictionnaires (paires clé-valeur) (par exemple, `{'a': 1, 'b': 2}`, `{'name': 'Alice', 'age': 30}`).\n"
      ]
    },
    {
      "cell_type": "code",
      "execution_count": null,
      "metadata": {
        "id": "74c69695"
      },
      "outputs": [],
      "source": [
        "# Déclarer un dictionnaire\n",
        "my_dict = {'name': 'Alice', 'age': 30}\n",
        "print(f\"Valeur: {my_dict}, Type: {type(my_dict)}\")"
      ]
    },
    {
      "cell_type": "markdown",
      "metadata": {
        "id": "W9ktH6Yp6bzc"
      },
      "source": [
        "*   **Type Booléen :**\n",
        "    *   `bool` : Valeurs booléennes, soit `True` ou `False`."
      ]
    },
    {
      "cell_type": "code",
      "execution_count": null,
      "metadata": {
        "id": "6ed2636b"
      },
      "outputs": [],
      "source": [
        "# Déclarer un booléen\n",
        "my_boolean = True\n",
        "print(f\"Valeur: {my_boolean}, Type: {type(my_boolean)}\")\n",
        "\n",
        "my_boolean = False\n",
        "print(f\"Valeur: {my_boolean}, Type: {type(my_boolean)}\")"
      ]
    },
    {
      "cell_type": "markdown",
      "metadata": {
        "id": "YhdOKz3P6dtO"
      },
      "source": [
        "*   **Type None :**\n",
        "    *   `NoneType` : Représente l'absence d'une valeur. Le seul objet de ce type est `None`."
      ]
    },
    {
      "cell_type": "markdown",
      "metadata": {
        "id": "YTyyZ9z99xlX"
      },
      "source": [
        "### 4.2 Référence (nom de variable), Littéral et `=`"
      ]
    },
    {
      "cell_type": "markdown",
      "metadata": {
        "id": "3bbf5155"
      },
      "source": [
        "En Python, quand vous écrivez une instruction comme `my_variable = 10` :\n",
        "\n",
        "*   `my_variable` est le **nom de variable**, aussi appelé **référence**. C'est un nom qui pointe vers un objet en mémoire.\n",
        "*   `10` est un **littéral**. C'est une représentation directe d'une valeur fixe dans le code."
      ]
    },
    {
      "cell_type": "code",
      "execution_count": null,
      "metadata": {
        "id": "70ffdf16"
      },
      "outputs": [],
      "source": [
        "# Exemples de types littéraux\n",
        "print('Littéraux et leurs types')\n",
        "print(type('Hello'))        # Littéral string\n",
        "print(type(10))             # Littéral entier\n",
        "print(type(3.14))           # Littéral flottant\n",
        "print(type(1j))             # Littéral complexe\n",
        "print(type(True))           # Littéral booléen\n",
        "print(type([1, 2, 3]))      # Littéral liste\n",
        "print(type((1, 2, 3)))      # Littéral tuple\n",
        "print(type({'a': 1, 'b': 2})) # Littéral dictionnaire\n",
        "print(type({1, 2, 3}))      # Littéral ensemble\n",
        "print(type(None))           # Littéral None\n",
        "\n",
        "print('-------------------------')\n",
        "reference = 'beautiful'\n",
        "print(f'{type(reference)} , {type(\"beautiful\")}')"
      ]
    },
    {
      "cell_type": "markdown",
      "metadata": {
        "id": "iDf3MNPr95xh"
      },
      "source": [
        "*   `=` est l'**opérateur d'assignation**. Il assigne la référence (`my_variable`) à l'objet représenté par le littéral (`10`). En essence, il fait que le nom `my_variable` pointe vers l'objet entier `10` en mémoire.\n",
        "\n",
        "Les variables en Python ne stockent pas les valeurs elles-mêmes directement ; elles contiennent des références vers des objets. Quand vous assignez une variable, vous liez un nom à un objet."
      ]
    },
    {
      "cell_type": "code",
      "execution_count": null,
      "metadata": {
        "id": "Y89ytiSOV6mM"
      },
      "outputs": [],
      "source": [
        "# Pour illustrer l'assignation de \"=\"\n",
        "\n",
        "# Assigner 0 à la référence a\n",
        "a = 0\n",
        "print(a)\n",
        "\n",
        "# La valeur de a est récupérée, puis est ajoutée avec 1. Le résultat final est ensuite assigné à la référence a\n",
        "a = a + 1\n",
        "print(a)"
      ]
    },
    {
      "cell_type": "markdown",
      "metadata": {
        "id": "fQ2T0rKKAO0p"
      },
      "source": [
        "### 4.3 Types Mutables vs Types Immuables"
      ]
    },
    {
      "cell_type": "markdown",
      "metadata": {
        "id": "f509af85"
      },
      "source": [
        "En Python, les types intégrés peuvent être classés comme mutables ou immuables. Comprendre cette distinction est important car cela affecte la façon dont vous pouvez interagir avec les objets de ces types.\n",
        "\n",
        "*   **Types mutables :** L'état des objets de ces types *peut* être modifié après leur création. Cela signifie que vous pouvez modifier l'objet sur place sans créer un nouvel objet. Pensez-y comme avoir une boîte physique (l'objet) où vous pouvez ajouter ou retirer des éléments (changer son état) sans obtenir une nouvelle boîte. Les types mutables sont :\n",
        "    *   `list`\n",
        "    *   `set`\n",
        "    *   `dict`\n",
        "\n",
        "*   **Types immuables :** L'état des objets de ces types *ne peut pas* être modifié après leur création. Si vous essayez de modifier un objet \"immuable\", vous créez en fait un *nouvel* objet avec les changements souhaités, et l'objet original reste inchangé. Pensez-y comme un conteneur scellé – pour changer son contenu, vous devez obtenir un nouveau conteneur avec le nouveau contenu. Les types immuables sont\n",
        "    *   `int`\n",
        "    *   `float`\n",
        "    *   `complex`\n",
        "    *   `bool`\n",
        "    *   `str`\n",
        "    *   `range`\n",
        "    *   `tuple`  -- équivalent de `list`\n",
        "    *   `frozenset` -- équivalent de `set`\n",
        "\n",
        "Regardons quelques exemples pour voir la différence pratique."
      ]
    },
    {
      "cell_type": "code",
      "execution_count": null,
      "metadata": {
        "id": "749f4c06"
      },
      "outputs": [],
      "source": [
        "# Exemple démontrant l'immuabilité des chaînes avec modification\n",
        "my_string = \"Python\"\n",
        "print(f\"Chaîne originale: {my_string}, id(my_string): {id(my_string)}\")\n",
        "\n",
        "# \"Modifier\" la chaîne par concaténation\n",
        "my_string = my_string + \" Programming\"\n",
        "print(f\"Après concaténation: {my_string}, id(my_string): {id(my_string)}\") # l'id change\n",
        "\n",
        "# Une autre façon de \"modifier\" - découpage et réassignation\n",
        "my_string = my_string.upper()\n",
        "print(f\"Après upper(): {my_string}, id(my_string): {id(my_string)}\") # l'id change encore"
      ]
    },
    {
      "cell_type": "code",
      "execution_count": null,
      "metadata": {
        "id": "4a27c023"
      },
      "outputs": [],
      "source": [
        "# Exemple démontrant l'immuabilité d'un float avec l'affectation\n",
        "a = 3.14\n",
        "print(f\"Étape 1 : a = {a}, id(a): {id(a)}\")\n",
        "\n",
        "b = a\n",
        "print(f\"Étape 2 : b = {b}, id(b): {id(b)}\")\n",
        "print(f\"Étape 2 : a = {a}, id(a): {id(a)}\") # a reste inchangé et a le même id\n",
        "\n",
        "b = 10.5\n",
        "print(f\"Étape 3 : b = {b}, id(b): {id(b)}\") # b référence maintenant un nouvel objet float avec un id différent\n",
        "print(f\"Étape 3 : a = {a}, id(a): {id(a)}\") # a est toujours inchangé et référence l'objet float original"
      ]
    },
    {
      "cell_type": "code",
      "execution_count": null,
      "metadata": {
        "id": "b9d07637"
      },
      "outputs": [],
      "source": [
        "# Exemple démontrant la mutabilité des listes\n",
        "my_list = [1, 2, 3]\n",
        "print(f\"Liste originale : {my_list}, id(my_list): {id(my_list)}\")\n",
        "\n",
        "# Attribution de my_list à new_list\n",
        "new_list = my_list\n",
        "\n",
        "# Modification de la liste sur place avec append\n",
        "new_list.append(4)\n",
        "print(f\"Après append sur new_list, my_list = {my_list}, id(my_list): {id(my_list)}, id(new_list): {id(new_list)}\") # l'id reste le même\n",
        "\n",
        "# Modification de la liste sur place par affectation d'élément\n",
        "my_list[0] = 100\n",
        "print(f\"Après affectation d'un élément sur my_list, new_list = {new_list}, id(my_list): {id(my_list)}, id(new_list): {id(new_list)}\") # l'id reste le même"
      ]
    },
    {
      "cell_type": "code",
      "execution_count": null,
      "metadata": {
        "id": "Cuy2W6O0F2TF"
      },
      "outputs": [],
      "source": [
        "# Exemple démontrant la mutabilité des dictionnaires\n",
        "my_dict = {'a': 1, 'b': 2}\n",
        "print(f\"Dictionnaire original: {my_dict}, id(my_dict): {id(my_dict)}\")\n",
        "\n",
        "# Ajout d'une nouvelle paire clé-valeur\n",
        "my_dict['c'] = 3\n",
        "print(f\"Après ajout d'un élément: {my_dict}, id(my_dict): {id(my_dict)}\") # l'id reste le même\n",
        "\n",
        "# Modification d'une valeur existante\n",
        "my_dict['a'] = 1000\n",
        "print(f\"Après modification d'un élément: {my_dict}, id(my_dict): {id(my_dict)}\") # l'id reste le même"
      ]
    },
    {
      "cell_type": "markdown",
      "metadata": {},
      "source": [
        "> **Que retourne `id()` ?** Utilisez `help()` pour le découvrir !"
      ]
    },
    {
      "cell_type": "markdown",
      "metadata": {
        "id": "0789080b"
      },
      "source": [
        "### **Exercice 4.1 : Explorer les opérateurs numériques**"
      ]
    },
    {
      "cell_type": "markdown",
      "metadata": {
        "id": "ibVAqHeSSXDe"
      },
      "source": [
        "Votre tâche est d'expérimenter avec différents opérateurs arithmétiques en Python en utilisant divers types numériques (`int`, `float`, `complex`).\n",
        "\n",
        "Voici ce que vous devez faire :\n",
        "\n",
        "1.  **Choisir des types numériques :** Sélectionnez quelques exemples d'entiers, de flottants et de nombres complexes.\n",
        "2.  **Appliquer les opérateurs :** Utilisez les opérateurs suivants sur des paires de vos nombres choisis :\n",
        "    *   `+` (addition)\n",
        "    *   `-` (soustraction)\n",
        "    *   `*` (multiplication)\n",
        "    *   `/` (division)\n",
        "    *   `//` (division entière)\n",
        "    *   `%` (modulo - reste de la division)\n",
        "    *   `**` (exponentiation)\n",
        "3.  **Observer les résultats :** Pour chaque opération, imprimez l'expression et le résultat. Portez attention à :\n",
        "    *   Le type du résultat (par exemple, additionner deux entiers peut donner un entier, mais diviser deux entiers peut donner un flottant).\n",
        "    *   Le comportement de la division entière (`//`) et du modulo (`%`) avec différents types, surtout les nombres négatifs.\n",
        "    *   Le comportement des opérations impliquant des nombres complexes.\n",
        "4.  **Documenter vos découvertes :** Ajoutez des commentaires dans votre code ou créez des cellules markdown pour expliquer ce que vous observez sur chaque opérateur et comment les types des opérandes affectent le type et la valeur du résultat.\n",
        "\n",
        "Voici un point de départ avec quelques exemples que vous pouvez développer :"
      ]
    },
    {
      "cell_type": "code",
      "execution_count": null,
      "metadata": {
        "id": "a9118edc"
      },
      "outputs": [],
      "source": [
        "# Exemple 1 : opérations sur les entiers\n",
        "a = 10\n",
        "b = 3\n",
        "print(f\"{a} + {b} = {a + b}\")\n",
        "print(f\"{a} // {b} = {a // b}\") # Division entière\n",
        "print(f\"{a} % {b} = {a % b}\")   # Modulo"
      ]
    },
    {
      "cell_type": "markdown",
      "metadata": {
        "id": "A-UI2FGXHmFt"
      },
      "source": [
        "### **Exercice 4.2 : Explorer les opérateurs de comparaison**"
      ]
    },
    {
      "cell_type": "markdown",
      "metadata": {
        "id": "48bcc1f1"
      },
      "source": [
        "Votre tâche est d'expérimenter avec différents opérateurs de comparaison en Python en utilisant divers types de données (par exemple, `int`, `float`, `str`).\n",
        "\n",
        "Voici ce que vous devez faire :\n",
        "\n",
        "1.  **Choisir des types de données et des valeurs :** Sélectionnez des exemples d'entiers, de flottants et de chaînes. Vous pouvez aussi essayer d'autres types comme les listes ou les tuples, mais soyez attentif à la façon dont les comparaisons fonctionnent pour ces types.\n",
        "2.  **Appliquer les opérateurs :** Utilisez les opérateurs suivants sur des paires de vos valeurs choisies :\n",
        "    *   `==` (égal à)\n",
        "    *   `!=` (différent de)\n",
        "    *   `<` (inférieur à)\n",
        "    *   `>` (supérieur à)\n",
        "    *   `<=` (inférieur ou égal à)\n",
        "    *   `>=` (supérieur ou égal à)\n",
        "3.  **Observer les résultats :** Pour chaque opération, imprimez l'expression et le résultat. Portez attention à :\n",
        "    *   Le type de retour de l'opération (ce sera toujours un booléen : `True` ou `False`).\n",
        "    *   Le résultat de la comparaison pour différents types de données.\n",
        "    *   Comment les comparaisons de chaînes fonctionnent (lexicographiquement).\n",
        "4.  **Documenter vos découvertes :** Ajoutez des commentaires dans votre code ou créez des cellules markdown pour expliquer ce que vous observez sur chaque opérateur et comment il se comporte avec différents types de données."
      ]
    },
    {
      "cell_type": "code",
      "execution_count": null,
      "metadata": {
        "id": "697695b5"
      },
      "outputs": [],
      "source": [
        "# Exemple pour l'exercice sur les opérateurs de comparaison\n",
        "\n",
        "# Entiers\n",
        "x = 15\n",
        "y = 10\n",
        "\n",
        "print(f\"{x} == {y}: {x == y}\")\n",
        "print(f\"{x} != {y}: {x != y}\")\n",
        "print(f\"{x} > {y}: {x > y}\")\n",
        "print(f\"{x} <= {y}: {x <= y}\")\n",
        "\n",
        "print(\"-\" * 20)\n",
        "\n",
        "# Chaînes de caractères\n",
        "str_a = \"banana\"\n",
        "str_b = \"apple\"\n",
        "\n",
        "print(f\"'{str_a}' < '{str_b}': {str_a < str_b}\")\n",
        "print(f\"'{str_a}' >= '{str_b}': {str_a >= str_b}\")\n",
        "\n",
        "print(\"-\" * 20)\n",
        "\n",
        "# Flottants\n",
        "f1 = 3.14\n",
        "f2 = 3.14159\n",
        "\n",
        "print(f\"{f1} == {f2}: {f1 == f2}\")\n",
        "print(f\"{f1} < {f2}: {f1 < f2}\")"
      ]
    },
    {
      "cell_type": "markdown",
      "metadata": {
        "id": "79e44c7b"
      },
      "source": [
        "### **Exercice 4.3 : Exploration des opérateurs logiques (`and`, `or`)**"
      ]
    },
    {
      "cell_type": "markdown",
      "metadata": {
        "id": "8cTQKiS9LmXL"
      },
      "source": [
        "Votre tâche est d'expérimenter avec les opérateurs logiques `and` et `or` en Python. Ces opérateurs sont utilisés pour combiner des expressions booléennes et retournent un résultat booléen (`True` ou `False`).\n",
        "\n",
        "Voici ce que vous devez faire :\n",
        "\n",
        "1.  **`and` et `or` de base :** Expérimentez avec des valeurs booléennes simples et des expressions en utilisant `and` et `or`.\n",
        "    *   Essayez `True and True`, `True and False`, `False and False`.\n",
        "    *   Essayez `True or True`, `True or False`, `False or False`.\n",
        "    *   Essayez de combiner des opérations de comparaison avec des opérateurs logiques (par exemple, `(5 > 3) and (10 < 20)`).\n",
        "2.  **Combiner `and` et `or` :** Explorez comment `and` et `or` fonctionnent ensemble dans une seule expression. Rappelez-vous l'ordre des opérations (`and` s'évalue généralement avant `or` sauf si des parenthèses sont utilisées).\n",
        "3.  **Utiliser des parenthèses :** Comprenez comment les parenthèses `()` peuvent changer l'ordre d'évaluation dans les expressions logiques.\n",
        "4.  **Expression complexe :** Considérez l'expression booléenne complexe suivante : `result = (True and False) or (True or False) and not False`. Déduisez le résultat et vérifiez avec Python.\n",
        "5.  **Problème** : soit `h` la hauteur en cm et `w` le poids en kg d'une personne, écrivez une expression pour sélectionner les personnes de hauteur entre 150cm et 170cm, tandis que leur poids est inférieur à 40kg ou supérieur à 90kg."
      ]
    },
    {
      "cell_type": "markdown",
      "metadata": {
        "id": "6cd9b84b"
      },
      "source": [
        "### **Exercice 4.4 : Exploration des listes Python et de leurs opérations**\n",
        "\n",
        "Votre tâche est de travailler avec une liste donnée et d'explorer ses méthodes intégrées ainsi que certaines fonctions courantes liées aux listes.\n",
        "\n",
        "Voici la liste avec laquelle vous allez travailler :"
      ]
    },
    {
      "cell_type": "code",
      "execution_count": null,
      "metadata": {
        "id": "a6117367"
      },
      "outputs": [],
      "source": [
        "import time\n",
        "my_list = [3, 69, 'sunny', '90', 'ipsa', ['a', 'b', 4], True, 3.14, time]\n",
        "\n",
        "import random as rd\n",
        "num_list = [rd.uniform(0, 100) for _ in range(5)]"
      ]
    },
    {
      "cell_type": "markdown",
      "metadata": {
        "id": "655c004f"
      },
      "source": [
        "**A. Ce que vous devez faire avec `my_list` :**\n",
        "\n",
        "1.  **Lister toutes les méthodes intégrées :** Utilisez la fonction `dir()` sur `my_list` pour voir une liste de toutes les méthodes disponibles pour les objets list.\n",
        "2.  **Explorer les méthodes avec `help()` :** Choisissez quelques méthodes de la sortie `dir()` (comme `append`, `remove`, `index`, `insert`) et utilisez `help()` sur elles (par exemple, `help(my_list.append)`) pour comprendre comment elles fonctionnent.\n",
        "3.  **Utiliser `len()` :** La fonction `len()` n'est pas une méthode de liste, mais elle est couramment utilisée avec les listes. Utilisez `help(len)` pour la comprendre, puis utilisez `len()` sur `my_list` pour découvrir combien d'éléments sont dans la liste. Imprimez le résultat.\n",
        "4.  **Expérimenter avec les méthodes :**\n",
        "    *   Utilisez la méthode `.append()` pour ajouter un nouvel élément à la fin de `my_list`. Imprimez la liste après l'ajout.\n",
        "    *   Utilisez la méthode `.remove()` pour supprimer un élément spécifique de `my_list`. Imprimez la liste après la suppression.\n",
        "    *   Utilisez la méthode `.index()` pour trouver l'index d'un élément spécifique dans `my_list`. Imprimez l'index.\n",
        "    *   Utilisez la méthode `.insert()` pour insérer un nouvel élément à une position spécifique dans `my_list`. Imprimez la liste après l'insertion.\n",
        "5.  **Accéder et imprimer un élément :** utilisez `.index()` pour déterminer l'index d'un élément que vous préférez, et imprimez cet élément en utilisant l'opérateur `[<index>]`.\n",
        "\n",
        "Utilisez des cellules de code pour effectuer chaque étape et ajoutez des commentaires ou des cellules markdown pour expliquer vos observations.\n",
        "\n",
        "**B. Ce que vous devez faire avec `num_list` :**\n",
        "\n",
        "Ordonnez les nombres dans la liste par ordre croissant puis par ordre décroissant, en utilisant la méthode `.sort()` d'une liste avec l'aide de `help()`.\n",
        "\n",
        "**C. Que se passe-t-il si on applique l'opérateur `+` avec les deux listes ?**\n",
        "Découvrez-le en appliquant `+` avec les deux listes dans les deux ordres."
      ]
    },
    {
      "cell_type": "code",
      "execution_count": null,
      "metadata": {
        "id": "77ED6E9vSITt"
      },
      "outputs": [],
      "source": [
        "# A\n",
        "\n",
        "\n",
        "# B\n",
        "\n",
        "\n",
        "# C"
      ]
    },
    {
      "cell_type": "markdown",
      "metadata": {
        "id": "ae164762"
      },
      "source": [
        "### **Exercice 4.5 : Création et exploration des dictionnaires**"
      ]
    },
    {
      "cell_type": "markdown",
      "metadata": {
        "id": "zD4b5EsFSOic"
      },
      "source": [
        "Votre tâche est de créer un dictionnaire Python pour stocker des informations sur un employé puis d'explorer son contenu.\n",
        "\n",
        "Voici ce que vous devez faire :\n",
        "\n",
        "1.  **Créer le dictionnaire :** Créez un dictionnaire nommé `employee_info` avec les paires clé-valeur suivantes :\n",
        "    *   `\"name\"` : Le nom de l'employé (par exemple, \"Alice Smith\")\n",
        "    *   `\"employee_id\"` : L'ID de l'employé (par exemple, \"E12345\")\n",
        "    *   `\"department\"` : Le département de l'employé (par exemple, \"Sales\")\n",
        "    *   `\"is_full_time\"` : Un booléen indiquant si l'employé est à temps plein (par exemple, `True`)\n",
        "    *   `\"salary\"` : Le salaire de l'employé (par exemple, 60000.00)\n",
        "2.  **Imprimer le dictionnaire :** Imprimez le dictionnaire `employee_info` entier.\n",
        "3.  **Accéder aux valeurs :** Accédez et imprimez le nom et le département de l'employé en utilisant leurs clés respectives.\n",
        "4.  **Ajouter une nouvelle paire clé-valeur :** Ajoutez une nouvelle paire clé-valeur au dictionnaire pour la `\"hire_date\"` de l'employé (par exemple, \"2022-08-15\"). Imprimez le dictionnaire à nouveau pour voir les informations ajoutées.\n",
        "5.  **Modifier une valeur :** Changez le salaire de l'employé à une nouvelle valeur (par exemple, 65000.00). Imprimez le dictionnaire pour voir le salaire mis à jour.\n",
        "6.  **Explorer les clés, valeurs et éléments :** Utilisez les méthodes `.keys()`, `.values()`, et `.items()` pour obtenir des vues des clés, valeurs et paires clé-valeur du dictionnaire. Imprimez chacune de ces vues."
      ]
    },
    {
      "cell_type": "code",
      "execution_count": null,
      "metadata": {
        "id": "662054c6"
      },
      "outputs": [],
      "source": [
        "# Exemple de création d'un dictionnaire d'employé (point de départ)\n",
        "\n",
        "# employee_info = {\n",
        "#     \"nom\": \"Alice Smith\",\n",
        "#     \"identifiant_employé\": \"E12345\",\n",
        "#     # Ajoutez le reste des informations de l'employé ici\n",
        "# }\n",
        "\n",
        "# print(employee_info)\n",
        "\n",
        "# Maintenant, essayez de compléter le reste des étapes de l'exercice ci-dessous !"
      ]
    },
    {
      "cell_type": "markdown",
      "metadata": {
        "id": "t8l6mSv6S3oW"
      },
      "source": [
        "## 5. Contrôle du flux et portée (indentation)"
      ]
    },
    {
      "cell_type": "markdown",
      "metadata": {
        "id": "b1ba1a6f"
      },
      "source": [
        "Le contrôle du flux correspond à l'ordre dans lequel le code d'un programme s'exécute. Il détermine quelles instructions sont exécutées, et dans quelles conditions. En Python, le contrôle du flux est géré à l'aide de structures telles que les instructions conditionnelles (`if`, `elif`, `else`) et les boucles (`for`, `while`)."
      ]
    },
    {
      "cell_type": "markdown",
      "metadata": {
        "id": "9164352d"
      },
      "source": [
        "#### 5.1 Instructions conditionnelles (`if`, `elif`, `else`)"
      ]
    },
    {
      "cell_type": "markdown",
      "metadata": {
        "id": "r-ha9zMhUMTy"
      },
      "source": [
        "Les instructions conditionnelles permettent d'exécuter des blocs de code spécifiques seulement si certaines conditions sont remplies.\n",
        " \n",
        "*   L'instruction `if` est utilisée pour tester une condition. Si la condition est `True` (vraie), le bloc de code indenté en dessous est exécuté.\n",
        "*   L'instruction `elif` (contraction de \"else if\") permet de vérifier d'autres conditions si les conditions précédentes (`if` ou `elif`) étaient `False`.\n",
        "*   L'instruction `else` est un bloc final optionnel qui est exécuté si aucune des conditions précédentes n'était `True`."
      ]
    },
    {
      "cell_type": "code",
      "execution_count": null,
      "metadata": {
        "id": "f5b9e680"
      },
      "outputs": [],
      "source": [
        "# Exemple d'utilisation de if, elif, et else\n",
        "score = 85\n",
        "\n",
        "if score >= 90:\n",
        "  print(\"Excellent !\")\n",
        "elif score >= 75:\n",
        "  print(\"Très bien !\")\n",
        "elif score >= 60:\n",
        "  print(\"Bien.\")\n",
        "else:\n",
        "  print(\"Doit s'améliorer.\")"
      ]
    },
    {
      "cell_type": "markdown",
      "metadata": {
        "id": "028efe28"
      },
      "source": [
        "### 5.2 Boucles (`for`, `while`)"
      ]
    },
    {
      "cell_type": "markdown",
      "metadata": {
        "id": "QCwYrUByUZJX"
      },
      "source": [
        "Les boucles permettent d'exécuter à plusieurs reprises un bloc de code.\n",
        " \n",
        "#### Boucles `for`\n",
        " \n",
        "Les boucles `for` sont utilisées pour parcourir une séquence (comme une liste, un tuple, une chaîne de caractères ou une plage de nombres) ou tout autre objet itérable. Le bloc de code est exécuté une fois pour chaque élément de la séquence."
      ]
    },
    {
      "cell_type": "code",
      "execution_count": null,
      "metadata": {
        "id": "e3b7050c"
      },
      "outputs": [],
      "source": [
        "# Exemple d'une boucle for avec une liste\n",
        "fruits = [\"pomme\", \"banane\", \"cerise\"]\n",
        "for fruit in fruits:\n",
        "  print(fruit)"
      ]
    },
    {
      "cell_type": "code",
      "execution_count": null,
      "metadata": {
        "id": "c15a378c"
      },
      "outputs": [],
      "source": [
        "# Exemple d'une boucle for avec range\n",
        "for i in range(5): # range(5) génère les nombres de 0 jusqu'à (mais sans inclure) 5\n",
        "  print(i)"
      ]
    },
    {
      "cell_type": "markdown",
      "metadata": {
        "id": "066b53b5"
      },
      "source": [
        "#### Boucles `while`\n",
        "\n",
        "Les boucles `while` servent à exécuter à plusieurs reprises un bloc de code tant qu'une condition donnée est `True`. Il faut s'assurer que cette condition finira par devenir `False` pour éviter les boucles infinies."
      ]
    },
    {
      "cell_type": "code",
      "execution_count": null,
      "metadata": {
        "id": "04ac5618"
      },
      "outputs": [],
      "source": [
        "# Exemple d'une boucle while\n",
        "compteur = 0\n",
        "while compteur < 5:\n",
        "  print(f\"Le compteur est : {compteur}\")\n",
        "  compteur += 1 # Incrémente compteur pour finir par rendre la condition False"
      ]
    },
    {
      "cell_type": "markdown",
      "metadata": {
        "id": "c72a9295"
      },
      "source": [
        "### 5.3 Indentation et portée (Scope)\n"
      ]
    },
    {
      "cell_type": "markdown",
      "metadata": {
        "id": "AT474ab6UelT"
      },
      "source": [
        "Python utilise l'indentation (espaces ou tabulations en début de ligne) pour définir les blocs de code. Cela diffère de nombreux autres langages de programmation qui utilisent des accolades `{}` ou des mots-clés comme `begin` et `end`. Une indentation cohérente est essentielle pour que le code Python fonctionne correctement.\n",
        "\n",
        "*   **Indentation :** Toutes les lignes à l'intérieur d'un bloc (par exemple, dans une instruction `if`, une boucle `for` ou une fonction) doivent être indentées du même nombre d'espaces (généralement 4).\n",
        "*   **Portée (Scope) :** La portée correspond à la région d'un programme où une variable est accessible. Les variables définies à l'intérieur d'un bloc de code (comme à l'intérieur d'une fonction ou d'une boucle) ont une portée locale et ne sont accessibles qu'à l'intérieur de ce bloc. Les variables définies en dehors de toute fonction ou classe ont une portée globale et peuvent être utilisées depuis n'importe où dans le programme."
      ]
    },
    {
      "cell_type": "code",
      "execution_count": null,
      "metadata": {
        "id": "ac746832"
      },
      "outputs": [],
      "source": [
        "# Exemple démontrant l'indentation et la portée\n",
        "\n",
        "variable_globale = \"Je suis globale\"\n",
        "\n",
        "def ma_fonction():\n",
        "  # Ceci est une nouvelle portée (portée locale à ma_fonction)\n",
        "  variable_locale = \"Je suis locale à ma_fonction\"\n",
        "  print(variable_globale)  # La variable globale est accessible ici\n",
        "  print(variable_locale)    # La variable locale est accessible ici\n",
        "\n",
        "ma_fonction()\n",
        "\n",
        "# print(variable_locale) # Cela provoquerait une NameError car variable_locale n'est pas dans la portée globale"
      ]
    },
    {
      "cell_type": "markdown",
      "metadata": {
        "id": "8a67019f"
      },
      "source": [
        "### Combiner le contrôle de flux et la portée (Scope)\n",
        "\n",
        "Les structures de contrôle de flux créent souvent de nouvelles portées ou modifient la façon dont les variables à l'intérieur de celles-ci sont accessibles."
      ]
    },
    {
      "cell_type": "code",
      "execution_count": null,
      "metadata": {
        "id": "26cc1cf2"
      },
      "outputs": [],
      "source": [
        "# Exemple combinant une boucle et la portée (scope)\n",
        "for i in range(3):\n",
        "  variable_boucle = f\"Valeur {i}\"\n",
        "  print(variable_boucle)\n",
        "\n",
        "# Remarque : En Python 3, les variables définies dans la portée d'une boucle for\n",
        "# peuvent parfois \"fuiter\" (être accessibles) dans la portée environnante après la fin de la boucle.\n",
        "# Cependant, il est recommandé de les considérer comme principalement dans le contexte de la boucle.\n",
        "# La valeur de variable_boucle ici sera celle de la dernière itération.\n",
        "print(f\"Après la boucle, variable_boucle vaut : {variable_boucle}\")"
      ]
    },
    {
      "cell_type": "markdown",
      "metadata": {
        "id": "5b3ef376"
      },
      "source": [
        "### **Exercice 5.1 : Accumuler avec une boucle `for`**"
      ]
    },
    {
      "cell_type": "markdown",
      "metadata": {
        "id": "Fyikll8tVvMn"
      },
      "source": [
        "Votre tâche est d'utiliser une boucle `for` pour calculer la somme de tous les entiers de 1 à 100.\n",
        "\n",
        "Voici ce que vous devez faire :\n",
        "\n",
        "1. **Initialiser une variable :** Créez une variable (par exemple, `total_sum`) et initialisez-la à 0. Cette variable stockera la somme accumulée.\n",
        "2. **Utiliser une boucle `for` :** Utilisez une boucle `for` avec la fonction `range()` pour itérer sur les nombres de 1 à 100 (inclus).\n",
        "3. **Accumuler la somme :** À l'intérieur de la boucle, ajoutez chaque nombre à votre variable `total_sum`.\n",
        "4. **Afficher le résultat :** Après la fin de la boucle, affichez la valeur finale de `total_sum`."
      ]
    },
    {
      "cell_type": "code",
      "execution_count": null,
      "metadata": {
        "id": "Gvyw1phaVh50"
      },
      "outputs": [],
      "source": [
        "somme_totale = 0\n",
        "\n",
        "# la boucle for\n",
        "for nombre in range(1, 101):\n",
        "    somme_totale += nombre\n",
        "\n",
        "# afficher le résultat\n",
        "print('somme_totale =', somme_totale)"
      ]
    },
    {
      "cell_type": "markdown",
      "metadata": {
        "id": "25d2fd8e"
      },
      "source": [
        "### **Exercice 5.2 : Recherche avec une boucle `while`**"
      ]
    },
    {
      "cell_type": "markdown",
      "metadata": {
        "id": "0aVH9mXHXuKr"
      },
      "source": [
        "Votre tâche est d'utiliser une boucle `while` pour trouver le premier nombre supérieur à 9 dans une liste prédéfinie de 1000 nombres aléatoires.\n",
        "\n",
        "Voici la liste avec laquelle vous allez travailler :"
      ]
    },
    {
      "cell_type": "code",
      "execution_count": null,
      "metadata": {
        "id": "a0007e08"
      },
      "outputs": [],
      "source": [
        "import random\n",
        "\n",
        "# Générer une liste de 1000 nombres aléatoires entre 0 et 10\n",
        "nombres_aleatoires = [random.uniform(0, 10) for _ in range(1000)]\n",
        "\n",
        "# Afficher les dix premiers éléments pour voir les données\n",
        "print(nombres_aleatoires[:10])"
      ]
    },
    {
      "cell_type": "markdown",
      "metadata": {
        "id": "595ee284"
      },
      "source": [
        "Voici ce que vous devez faire :\n",
        " \n",
        "1.  **Initialiser les variables :**\n",
        "    *   Créez une variable (par exemple, `index`) et initialisez-la à 0. Elle servira à garder la trace de votre position actuelle dans la liste.\n",
        "    *   Créez une variable (par exemple, `found_number`) et initialisez-la à `None`. Elle stockera le premier nombre trouvé qui est supérieur à 9.\n",
        "2.  **Utiliser une boucle `while` :**\n",
        "    *   Mettez en place une boucle `while` qui continue tant que `index` reste dans les limites de la liste `random_numbers` ET que `found_number` vaut toujours `None`.\n",
        "3.  **Vérifier la condition :** À l'intérieur de la boucle, vérifiez si l'élément à la position actuelle `index` dans `random_numbers` est supérieur à 9.\n",
        "4.  **Mettre à jour les variables :**\n",
        "    *   Si le nombre est supérieur à 9, assignez ce nombre à `found_number`.\n",
        "    *   Sinon, incrémentez `index` pour passer à l'élément suivant.\n",
        "5.  **Afficher le résultat :** Après la fin de la boucle, affichez la valeur de `found_number`. Si la boucle se termine sans trouver de nombre supérieur à 9, `found_number` sera toujours `None`."
      ]
    },
    {
      "cell_type": "code",
      "execution_count": null,
      "metadata": {
        "id": "6f771517"
      },
      "outputs": [],
      "source": [
        "# Initialiser les variables\n",
        "index = 0\n",
        "found_number = None\n",
        "\n",
        "# Utiliser une boucle while\n",
        "\n",
        "\n",
        "  # Vérifier la condition\n",
        "\n",
        "\n",
        "    # Mettre à jour found_number\n",
        "\n",
        "\n",
        "  # Incrémenter index\n",
        "\n",
        "\n",
        "# Afficher le résultat\n",
        "print(f\"Le premier nombre supérieur à 9 trouvé est : {found_number}\")"
      ]
    },
    {
      "cell_type": "markdown",
      "metadata": {
        "id": "1c63fe9d"
      },
      "source": [
        "### **Exercice 5.3 : Recherche répétée et indice moyen**"
      ]
    },
    {
      "cell_type": "markdown",
      "metadata": {
        "id": "6dTNmGJdZ1dn"
      },
      "source": [
        "En vous appuyant sur l’exercice précédent, vous devez répéter le processus de recherche du premier nombre supérieur à 9 dans une liste de 1000 nombres aléatoires, mais cette fois-ci, vous allez le faire 100 fois. Pour chaque répétition, vous générerez une *nouvelle* liste de nombres aléatoires et enregistrerez l’indice du premier nombre trouvé qui est supérieur à 9. Enfin, vous calculerez la moyenne de ces indices enregistrés.\n",
        "\n",
        "Voici ce que vous devez faire :\n",
        "\n",
        "1.  **Initialisez une liste pour stocker les indices :** Créez une liste vide (par exemple, `found_indices`) pour stocker l’indice où un nombre supérieur à 9 est trouvé lors de chacune des 100 répétitions.\n",
        "2.  **Utilisez une boucle `for` pour les répétitions :** Créez une boucle `for` qui s’exécute 100 fois.\n",
        "3.  **Générez une nouvelle liste aléatoire :** À l’intérieur de la boucle `for`, générez une nouvelle liste de 1000 nombres aléatoires compris entre 0 et 10, comme dans l’exercice précédent.\n",
        "4.  **Implémentez la boucle de recherche `while` :** Utilisez la boucle `while` de l’exercice précédent pour trouver le premier nombre supérieur à 9 dans la liste de nombres aléatoires générée à l’étape 3.\n",
        "5.  **Enregistrez l’indice :** Si un nombre supérieur à 9 est trouvé dans la boucle `while`, ajoutez son indice à la liste `found_indices`.\n",
        "6.  **Calculez l’indice moyen :** Après la boucle `for` (après les 100 répétitions), calculez la moyenne des indices stockés dans la liste `found_indices`. Vous pouvez utiliser `sum()` et `len()` pour cela.\n",
        "7.  **Affichez la moyenne :** Affichez l’indice moyen calculé."
      ]
    },
    {
      "cell_type": "code",
      "execution_count": null,
      "metadata": {
        "id": "20a05851"
      },
      "outputs": [],
      "source": [
        "import random\n",
        "\n",
        "# Initialiser une liste pour stocker les indices\n",
        "found_indices = []\n",
        "\n",
        "# Utiliser une boucle for pour les répétitions (100 fois)\n",
        "for _ in range(100):\n",
        "  # Générer une nouvelle liste aléatoire (1000 nombres entre 0 et 10)\n",
        "  random_numbers = [random.uniform(0, 10) for _ in range(1000)]\n",
        "\n",
        "  # Initialiser les variables pour la recherche avec la boucle while\n",
        "\n",
        "\n",
        "  # Utiliser une boucle while pour rechercher le premier nombre > 9\n",
        "\n",
        "\n",
        "    # Vérifier la condition\n",
        "\n",
        "\n",
        "      # Si trouvé, enregistrer l’indice et interrompre la boucle ou définir found_number\n",
        "\n",
        "\n",
        "    # Incrémenter l’index\n",
        "\n",
        "\n",
        "# Calculer l’indice moyen\n",
        "\n",
        "\n",
        "# Afficher l’indice moyen\n",
        "print(f\"The average index of the first number greater than 9 is: {average_index}\")"
      ]
    }
  ],
  "metadata": {
    "colab": {
      "collapsed_sections": [
        "M-U_HeJCpAdv",
        "MWNOMbQW8SE5",
        "7f5fe2e9",
        "c635ce47",
        "3de536b9",
        "IZJ7e3vNyOg2",
        "VQUooberym5G",
        "eb0cbf36",
        "aeefbf67",
        "c76c7a9d",
        "81ced1a4",
        "Yg0lL96FyyjF",
        "5eG9Vtz57XpR",
        "fQ2T0rKKAO0p",
        "0789080b",
        "A-UI2FGXHmFt",
        "79e44c7b",
        "6cd9b84b"
      ],
      "provenance": []
    },
    "kernelspec": {
      "display_name": "Python 3",
      "name": "python3"
    },
    "language_info": {
      "name": "python",
      "version": "3.12.3"
    }
  },
  "nbformat": 4,
  "nbformat_minor": 0
}
